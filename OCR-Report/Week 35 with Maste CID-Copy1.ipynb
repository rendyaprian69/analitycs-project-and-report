{
 "cells": [
  {
   "cell_type": "code",
   "execution_count": 1,
   "id": "f0074eec",
   "metadata": {},
   "outputs": [],
   "source": [
    "import pandas as pd\n",
    "import numpy as np\n",
    "import matplotlib.pyplot as plt\n",
    "import seaborn as sns\n",
    "from matplotlib.pyplot import Rectangle\n",
    "\n",
    "import warnings\n",
    "warnings.filterwarnings('ignore')"
   ]
  },
  {
   "cell_type": "code",
   "execution_count": 2,
   "id": "4e172b64",
   "metadata": {},
   "outputs": [],
   "source": [
    "data1 = pd.read_excel('D:\\D\\Rendy\\DS\\Cikarang Dry Port - CISS Autogate Week35 2023.xlsx')"
   ]
  },
  {
   "cell_type": "code",
   "execution_count": 3,
   "id": "d1ea8fba",
   "metadata": {},
   "outputs": [
    {
     "name": "stdout",
     "output_type": "stream",
     "text": [
      "<class 'pandas.core.frame.DataFrame'>\n",
      "RangeIndex: 3199 entries, 0 to 3198\n",
      "Data columns (total 12 columns):\n",
      " #   Column            Non-Null Count  Dtype \n",
      "---  ------            --------------  ----- \n",
      " 0   RFID              3199 non-null   int64 \n",
      " 1   TRUCK NO.         3199 non-null   object\n",
      " 2   OCR               3199 non-null   object\n",
      " 3   TYPE TRUCK        3199 non-null   object\n",
      " 4   GATE NO.          3199 non-null   object\n",
      " 5   STATUS            3199 non-null   object\n",
      " 6   GATE PROCESS      3199 non-null   object\n",
      " 7   ALERT             402 non-null    object\n",
      " 8   REMARK OPERATOR   363 non-null    object\n",
      " 9   ORDER TYPE        3199 non-null   object\n",
      " 10  ACTUAL CONTAINER  402 non-null    object\n",
      " 11  DATETIME          3199 non-null   object\n",
      "dtypes: int64(1), object(11)\n",
      "memory usage: 300.0+ KB\n"
     ]
    }
   ],
   "source": [
    "data1.info()"
   ]
  },
  {
   "cell_type": "code",
   "execution_count": 4,
   "id": "9cf98728",
   "metadata": {},
   "outputs": [
    {
     "data": {
      "text/html": [
       "<div>\n",
       "<style scoped>\n",
       "    .dataframe tbody tr th:only-of-type {\n",
       "        vertical-align: middle;\n",
       "    }\n",
       "\n",
       "    .dataframe tbody tr th {\n",
       "        vertical-align: top;\n",
       "    }\n",
       "\n",
       "    .dataframe thead th {\n",
       "        text-align: right;\n",
       "    }\n",
       "</style>\n",
       "<table border=\"1\" class=\"dataframe\">\n",
       "  <thead>\n",
       "    <tr style=\"text-align: right;\">\n",
       "      <th></th>\n",
       "      <th>RFID</th>\n",
       "      <th>TRUCK NO.</th>\n",
       "      <th>OCR</th>\n",
       "      <th>TYPE TRUCK</th>\n",
       "      <th>GATE NO.</th>\n",
       "      <th>STATUS</th>\n",
       "      <th>GATE PROCESS</th>\n",
       "      <th>ALERT</th>\n",
       "      <th>REMARK OPERATOR</th>\n",
       "      <th>ORDER TYPE</th>\n",
       "      <th>ACTUAL CONTAINER</th>\n",
       "      <th>DATETIME</th>\n",
       "    </tr>\n",
       "  </thead>\n",
       "  <tbody>\n",
       "    <tr>\n",
       "      <th>0</th>\n",
       "      <td>31631</td>\n",
       "      <td>B9089BEI</td>\n",
       "      <td>00000000000</td>\n",
       "      <td>Truck Losbak</td>\n",
       "      <td>GATE 3</td>\n",
       "      <td>SUCCESS</td>\n",
       "      <td>Auto</td>\n",
       "      <td>NaN</td>\n",
       "      <td>NaN</td>\n",
       "      <td>Import Delivery</td>\n",
       "      <td>NaN</td>\n",
       "      <td>2023-09-03 23:03:37.833</td>\n",
       "    </tr>\n",
       "    <tr>\n",
       "      <th>1</th>\n",
       "      <td>34522</td>\n",
       "      <td>B9583UIZ</td>\n",
       "      <td>FCIU7178890</td>\n",
       "      <td>Truck Full Container</td>\n",
       "      <td>GATE 1</td>\n",
       "      <td>SUCCESS</td>\n",
       "      <td>Input Manual</td>\n",
       "      <td>DOCUMENT BC NOT BC2.0, PLEASE RELEASE DOCUMENT BC</td>\n",
       "      <td>Ocr gagal</td>\n",
       "      <td>Import Delivery</td>\n",
       "      <td>FCIU7178890</td>\n",
       "      <td>2023-09-03 22:01:09.917</td>\n",
       "    </tr>\n",
       "    <tr>\n",
       "      <th>2</th>\n",
       "      <td>36308</td>\n",
       "      <td>B9484UEM</td>\n",
       "      <td>SEKU4980843</td>\n",
       "      <td>Truck Full Container</td>\n",
       "      <td>GATE 2</td>\n",
       "      <td>SUCCESS</td>\n",
       "      <td>Input Manual</td>\n",
       "      <td>DOCUMENT BC NOT BC2.0, PLEASE RELEASE DOCUMENT BC</td>\n",
       "      <td>Ocr gagal</td>\n",
       "      <td>Import Delivery</td>\n",
       "      <td>SEKU4980843</td>\n",
       "      <td>2023-09-03 21:58:44.470</td>\n",
       "    </tr>\n",
       "    <tr>\n",
       "      <th>3</th>\n",
       "      <td>36308</td>\n",
       "      <td>B9484UEM</td>\n",
       "      <td>00000000000</td>\n",
       "      <td>Truck Losbak</td>\n",
       "      <td>GATE 3</td>\n",
       "      <td>SUCCESS</td>\n",
       "      <td>Auto</td>\n",
       "      <td>NaN</td>\n",
       "      <td>NaN</td>\n",
       "      <td>Import Delivery</td>\n",
       "      <td>NaN</td>\n",
       "      <td>2023-09-03 21:41:07.773</td>\n",
       "    </tr>\n",
       "    <tr>\n",
       "      <th>4</th>\n",
       "      <td>34522</td>\n",
       "      <td>B9583UIZ</td>\n",
       "      <td>00000000000</td>\n",
       "      <td>Truck Losbak</td>\n",
       "      <td>GATE 4</td>\n",
       "      <td>SUCCESS</td>\n",
       "      <td>Auto</td>\n",
       "      <td>NaN</td>\n",
       "      <td>NaN</td>\n",
       "      <td>Import Delivery</td>\n",
       "      <td>NaN</td>\n",
       "      <td>2023-09-03 21:25:58.783</td>\n",
       "    </tr>\n",
       "  </tbody>\n",
       "</table>\n",
       "</div>"
      ],
      "text/plain": [
       "    RFID TRUCK NO.          OCR            TYPE TRUCK GATE NO.   STATUS  \\\n",
       "0  31631  B9089BEI  00000000000          Truck Losbak   GATE 3  SUCCESS   \n",
       "1  34522  B9583UIZ  FCIU7178890  Truck Full Container   GATE 1  SUCCESS   \n",
       "2  36308  B9484UEM  SEKU4980843  Truck Full Container   GATE 2  SUCCESS   \n",
       "3  36308  B9484UEM  00000000000          Truck Losbak   GATE 3  SUCCESS   \n",
       "4  34522  B9583UIZ  00000000000          Truck Losbak   GATE 4  SUCCESS   \n",
       "\n",
       "   GATE PROCESS                                              ALERT  \\\n",
       "0          Auto                                                NaN   \n",
       "1  Input Manual  DOCUMENT BC NOT BC2.0, PLEASE RELEASE DOCUMENT BC   \n",
       "2  Input Manual  DOCUMENT BC NOT BC2.0, PLEASE RELEASE DOCUMENT BC   \n",
       "3          Auto                                                NaN   \n",
       "4          Auto                                                NaN   \n",
       "\n",
       "  REMARK OPERATOR       ORDER TYPE ACTUAL CONTAINER                 DATETIME  \n",
       "0             NaN  Import Delivery              NaN  2023-09-03 23:03:37.833  \n",
       "1       Ocr gagal  Import Delivery      FCIU7178890  2023-09-03 22:01:09.917  \n",
       "2       Ocr gagal  Import Delivery      SEKU4980843  2023-09-03 21:58:44.470  \n",
       "3             NaN  Import Delivery              NaN  2023-09-03 21:41:07.773  \n",
       "4             NaN  Import Delivery              NaN  2023-09-03 21:25:58.783  "
      ]
     },
     "execution_count": 4,
     "metadata": {},
     "output_type": "execute_result"
    }
   ],
   "source": [
    "data1.head()"
   ]
  },
  {
   "cell_type": "code",
   "execution_count": 5,
   "id": "d5368c8e",
   "metadata": {},
   "outputs": [],
   "source": [
    "list_gate = data1['GATE NO.'].unique()\n",
    "#list_gate = pd.DataFrame(data1['GATE NO.'].unique())\n",
    "#list_gate = list_gate.rename(columns={0:'GATE'}).sort_values(by=['GATE']).reset_index(drop=True)"
   ]
  },
  {
   "cell_type": "code",
   "execution_count": 6,
   "id": "50ab10bf",
   "metadata": {},
   "outputs": [
    {
     "data": {
      "text/plain": [
       "array(['GATE 3', 'GATE 1', 'GATE 2', 'GATE 4', 'GATE 5'], dtype=object)"
      ]
     },
     "execution_count": 6,
     "metadata": {},
     "output_type": "execute_result"
    }
   ],
   "source": [
    "list_gate "
   ]
  },
  {
   "cell_type": "code",
   "execution_count": 7,
   "id": "15620643",
   "metadata": {
    "scrolled": false
   },
   "outputs": [
    {
     "data": {
      "text/html": [
       "<div>\n",
       "<style scoped>\n",
       "    .dataframe tbody tr th:only-of-type {\n",
       "        vertical-align: middle;\n",
       "    }\n",
       "\n",
       "    .dataframe tbody tr th {\n",
       "        vertical-align: top;\n",
       "    }\n",
       "\n",
       "    .dataframe thead th {\n",
       "        text-align: right;\n",
       "    }\n",
       "</style>\n",
       "<table border=\"1\" class=\"dataframe\">\n",
       "  <thead>\n",
       "    <tr style=\"text-align: right;\">\n",
       "      <th></th>\n",
       "      <th>index</th>\n",
       "      <th>0</th>\n",
       "    </tr>\n",
       "  </thead>\n",
       "  <tbody>\n",
       "    <tr>\n",
       "      <th>0</th>\n",
       "      <td>RFID</td>\n",
       "      <td>[31631, 34522, 36308, 36915, 1310643804, 20646...</td>\n",
       "    </tr>\n",
       "    <tr>\n",
       "      <th>1</th>\n",
       "      <td>TRUCK NO.</td>\n",
       "      <td>[B9089BEI, B9583UIZ, B9484UEM, D9392AG, A9056U...</td>\n",
       "    </tr>\n",
       "    <tr>\n",
       "      <th>2</th>\n",
       "      <td>OCR</td>\n",
       "      <td>[00000000000, FCIU7178890, SEKU4980843, ZCSU79...</td>\n",
       "    </tr>\n",
       "    <tr>\n",
       "      <th>3</th>\n",
       "      <td>TYPE TRUCK</td>\n",
       "      <td>[Truck Losbak, Truck Full Container]</td>\n",
       "    </tr>\n",
       "    <tr>\n",
       "      <th>4</th>\n",
       "      <td>GATE NO.</td>\n",
       "      <td>[GATE 3, GATE 1, GATE 2, GATE 4, GATE 5]</td>\n",
       "    </tr>\n",
       "    <tr>\n",
       "      <th>5</th>\n",
       "      <td>STATUS</td>\n",
       "      <td>[SUCCESS]</td>\n",
       "    </tr>\n",
       "    <tr>\n",
       "      <th>6</th>\n",
       "      <td>GATE PROCESS</td>\n",
       "      <td>[Auto, Input Manual]</td>\n",
       "    </tr>\n",
       "    <tr>\n",
       "      <th>7</th>\n",
       "      <td>ALERT</td>\n",
       "      <td>[nan, DOCUMENT BC NOT BC2.0, PLEASE RELEASE DO...</td>\n",
       "    </tr>\n",
       "    <tr>\n",
       "      <th>8</th>\n",
       "      <td>REMARK OPERATOR</td>\n",
       "      <td>[nan, Ocr gagal, -, --, 0, gagal, gaagl, -gaga...</td>\n",
       "    </tr>\n",
       "    <tr>\n",
       "      <th>9</th>\n",
       "      <td>ORDER TYPE</td>\n",
       "      <td>[Import Delivery, Delivery, Import Shuttle, Ex...</td>\n",
       "    </tr>\n",
       "    <tr>\n",
       "      <th>10</th>\n",
       "      <td>ACTUAL CONTAINER</td>\n",
       "      <td>[nan, FCIU7178890, SEKU4980843, TRHU4868510, S...</td>\n",
       "    </tr>\n",
       "    <tr>\n",
       "      <th>11</th>\n",
       "      <td>DATETIME</td>\n",
       "      <td>[2023-09-03 23:03:37.833, 2023-09-03 22:01:09....</td>\n",
       "    </tr>\n",
       "  </tbody>\n",
       "</table>\n",
       "</div>"
      ],
      "text/plain": [
       "               index                                                  0\n",
       "0               RFID  [31631, 34522, 36308, 36915, 1310643804, 20646...\n",
       "1          TRUCK NO.  [B9089BEI, B9583UIZ, B9484UEM, D9392AG, A9056U...\n",
       "2                OCR  [00000000000, FCIU7178890, SEKU4980843, ZCSU79...\n",
       "3         TYPE TRUCK               [Truck Losbak, Truck Full Container]\n",
       "4           GATE NO.           [GATE 3, GATE 1, GATE 2, GATE 4, GATE 5]\n",
       "5             STATUS                                          [SUCCESS]\n",
       "6       GATE PROCESS                               [Auto, Input Manual]\n",
       "7              ALERT  [nan, DOCUMENT BC NOT BC2.0, PLEASE RELEASE DO...\n",
       "8    REMARK OPERATOR  [nan, Ocr gagal, -, --, 0, gagal, gaagl, -gaga...\n",
       "9         ORDER TYPE  [Import Delivery, Delivery, Import Shuttle, Ex...\n",
       "10  ACTUAL CONTAINER  [nan, FCIU7178890, SEKU4980843, TRHU4868510, S...\n",
       "11          DATETIME  [2023-09-03 23:03:37.833, 2023-09-03 22:01:09...."
      ]
     },
     "execution_count": 7,
     "metadata": {},
     "output_type": "execute_result"
    }
   ],
   "source": [
    "pd.DataFrame(pd.Series({col:data1[col].unique() for col in data1})).reset_index()"
   ]
  },
  {
   "cell_type": "code",
   "execution_count": 8,
   "id": "cbc40ed9",
   "metadata": {},
   "outputs": [],
   "source": [
    "data1['ACTUAL CONTAINER'] = data1['ACTUAL CONTAINER'].str.upper() "
   ]
  },
  {
   "cell_type": "code",
   "execution_count": 9,
   "id": "414b306b",
   "metadata": {},
   "outputs": [],
   "source": [
    "df_success = data1.drop(data1[data1['GATE PROCESS']=='Master CID'].index)"
   ]
  },
  {
   "cell_type": "markdown",
   "id": "a976fe18",
   "metadata": {},
   "source": [
    "list_data2 = list(df_success.columns)\n",
    "\n",
    "\n",
    "for column in list_data2:\n",
    "    df_success.loc[df_success[column]=='-', column] = np.nan\n",
    "    df_success.loc[df_success[column]=='--', column] = np.nan"
   ]
  },
  {
   "cell_type": "code",
   "execution_count": 10,
   "id": "61f21cc9",
   "metadata": {},
   "outputs": [
    {
     "data": {
      "text/plain": [
       "array(['Auto', 'Input Manual'], dtype=object)"
      ]
     },
     "execution_count": 10,
     "metadata": {},
     "output_type": "execute_result"
    }
   ],
   "source": [
    "df_success['GATE PROCESS'].unique()"
   ]
  },
  {
   "cell_type": "code",
   "execution_count": 11,
   "id": "bc1155b0",
   "metadata": {},
   "outputs": [],
   "source": [
    "#df_success = df_success.drop(df_success[(df_success['REMARK OPERATOR']=='-') | (df_success['REMARK OPERATOR']==0) | (df_success['REMARK OPERATOR']=='00000000000')].index)"
   ]
  },
  {
   "cell_type": "code",
   "execution_count": 12,
   "id": "ef408aad",
   "metadata": {},
   "outputs": [],
   "source": [
    "df_success['Date'] = pd.to_datetime(df_success['DATETIME']).dt.date\n",
    "df_success['Time'] = pd.to_datetime(df_success['DATETIME']).dt.time\n",
    "df_success['Hour'] = pd.to_datetime(df_success['DATETIME']).dt.hour\n",
    "df_success['Minute'] = pd.to_datetime(df_success['DATETIME']).dt.minute"
   ]
  },
  {
   "cell_type": "code",
   "execution_count": 13,
   "id": "e3f64b34",
   "metadata": {
    "scrolled": false
   },
   "outputs": [
    {
     "data": {
      "text/html": [
       "<div>\n",
       "<style scoped>\n",
       "    .dataframe tbody tr th:only-of-type {\n",
       "        vertical-align: middle;\n",
       "    }\n",
       "\n",
       "    .dataframe tbody tr th {\n",
       "        vertical-align: top;\n",
       "    }\n",
       "\n",
       "    .dataframe thead th {\n",
       "        text-align: right;\n",
       "    }\n",
       "</style>\n",
       "<table border=\"1\" class=\"dataframe\">\n",
       "  <thead>\n",
       "    <tr style=\"text-align: right;\">\n",
       "      <th></th>\n",
       "      <th>RFID</th>\n",
       "      <th>TRUCK NO.</th>\n",
       "      <th>OCR</th>\n",
       "      <th>TYPE TRUCK</th>\n",
       "      <th>GATE NO.</th>\n",
       "      <th>STATUS</th>\n",
       "      <th>GATE PROCESS</th>\n",
       "      <th>ALERT</th>\n",
       "      <th>REMARK OPERATOR</th>\n",
       "      <th>ORDER TYPE</th>\n",
       "      <th>ACTUAL CONTAINER</th>\n",
       "      <th>DATETIME</th>\n",
       "      <th>Date</th>\n",
       "      <th>Time</th>\n",
       "      <th>Hour</th>\n",
       "      <th>Minute</th>\n",
       "    </tr>\n",
       "  </thead>\n",
       "  <tbody>\n",
       "    <tr>\n",
       "      <th>0</th>\n",
       "      <td>31631</td>\n",
       "      <td>B9089BEI</td>\n",
       "      <td>00000000000</td>\n",
       "      <td>Truck Losbak</td>\n",
       "      <td>GATE 3</td>\n",
       "      <td>SUCCESS</td>\n",
       "      <td>Auto</td>\n",
       "      <td>NaN</td>\n",
       "      <td>NaN</td>\n",
       "      <td>Import Delivery</td>\n",
       "      <td>NaN</td>\n",
       "      <td>2023-09-03 23:03:37.833</td>\n",
       "      <td>2023-09-03</td>\n",
       "      <td>23:03:37.833000</td>\n",
       "      <td>23</td>\n",
       "      <td>3</td>\n",
       "    </tr>\n",
       "    <tr>\n",
       "      <th>1</th>\n",
       "      <td>34522</td>\n",
       "      <td>B9583UIZ</td>\n",
       "      <td>FCIU7178890</td>\n",
       "      <td>Truck Full Container</td>\n",
       "      <td>GATE 1</td>\n",
       "      <td>SUCCESS</td>\n",
       "      <td>Input Manual</td>\n",
       "      <td>DOCUMENT BC NOT BC2.0, PLEASE RELEASE DOCUMENT BC</td>\n",
       "      <td>Ocr gagal</td>\n",
       "      <td>Import Delivery</td>\n",
       "      <td>FCIU7178890</td>\n",
       "      <td>2023-09-03 22:01:09.917</td>\n",
       "      <td>2023-09-03</td>\n",
       "      <td>22:01:09.917000</td>\n",
       "      <td>22</td>\n",
       "      <td>1</td>\n",
       "    </tr>\n",
       "    <tr>\n",
       "      <th>2</th>\n",
       "      <td>36308</td>\n",
       "      <td>B9484UEM</td>\n",
       "      <td>SEKU4980843</td>\n",
       "      <td>Truck Full Container</td>\n",
       "      <td>GATE 2</td>\n",
       "      <td>SUCCESS</td>\n",
       "      <td>Input Manual</td>\n",
       "      <td>DOCUMENT BC NOT BC2.0, PLEASE RELEASE DOCUMENT BC</td>\n",
       "      <td>Ocr gagal</td>\n",
       "      <td>Import Delivery</td>\n",
       "      <td>SEKU4980843</td>\n",
       "      <td>2023-09-03 21:58:44.470</td>\n",
       "      <td>2023-09-03</td>\n",
       "      <td>21:58:44.470000</td>\n",
       "      <td>21</td>\n",
       "      <td>58</td>\n",
       "    </tr>\n",
       "    <tr>\n",
       "      <th>3</th>\n",
       "      <td>36308</td>\n",
       "      <td>B9484UEM</td>\n",
       "      <td>00000000000</td>\n",
       "      <td>Truck Losbak</td>\n",
       "      <td>GATE 3</td>\n",
       "      <td>SUCCESS</td>\n",
       "      <td>Auto</td>\n",
       "      <td>NaN</td>\n",
       "      <td>NaN</td>\n",
       "      <td>Import Delivery</td>\n",
       "      <td>NaN</td>\n",
       "      <td>2023-09-03 21:41:07.773</td>\n",
       "      <td>2023-09-03</td>\n",
       "      <td>21:41:07.773000</td>\n",
       "      <td>21</td>\n",
       "      <td>41</td>\n",
       "    </tr>\n",
       "    <tr>\n",
       "      <th>4</th>\n",
       "      <td>34522</td>\n",
       "      <td>B9583UIZ</td>\n",
       "      <td>00000000000</td>\n",
       "      <td>Truck Losbak</td>\n",
       "      <td>GATE 4</td>\n",
       "      <td>SUCCESS</td>\n",
       "      <td>Auto</td>\n",
       "      <td>NaN</td>\n",
       "      <td>NaN</td>\n",
       "      <td>Import Delivery</td>\n",
       "      <td>NaN</td>\n",
       "      <td>2023-09-03 21:25:58.783</td>\n",
       "      <td>2023-09-03</td>\n",
       "      <td>21:25:58.783000</td>\n",
       "      <td>21</td>\n",
       "      <td>25</td>\n",
       "    </tr>\n",
       "    <tr>\n",
       "      <th>...</th>\n",
       "      <td>...</td>\n",
       "      <td>...</td>\n",
       "      <td>...</td>\n",
       "      <td>...</td>\n",
       "      <td>...</td>\n",
       "      <td>...</td>\n",
       "      <td>...</td>\n",
       "      <td>...</td>\n",
       "      <td>...</td>\n",
       "      <td>...</td>\n",
       "      <td>...</td>\n",
       "      <td>...</td>\n",
       "      <td>...</td>\n",
       "      <td>...</td>\n",
       "      <td>...</td>\n",
       "      <td>...</td>\n",
       "    </tr>\n",
       "    <tr>\n",
       "      <th>3194</th>\n",
       "      <td>34972</td>\n",
       "      <td>B9361UIZ</td>\n",
       "      <td>00000000000</td>\n",
       "      <td>Truck Losbak</td>\n",
       "      <td>GATE 1</td>\n",
       "      <td>SUCCESS</td>\n",
       "      <td>Auto</td>\n",
       "      <td>NaN</td>\n",
       "      <td>NaN</td>\n",
       "      <td>Import Shuttle</td>\n",
       "      <td>NaN</td>\n",
       "      <td>2023-08-28 00:51:37.073</td>\n",
       "      <td>2023-08-28</td>\n",
       "      <td>00:51:37.073000</td>\n",
       "      <td>0</td>\n",
       "      <td>51</td>\n",
       "    </tr>\n",
       "    <tr>\n",
       "      <th>3195</th>\n",
       "      <td>1311351276</td>\n",
       "      <td>B9989UIV</td>\n",
       "      <td>00000000000</td>\n",
       "      <td>Truck Losbak</td>\n",
       "      <td>GATE 2</td>\n",
       "      <td>SUCCESS</td>\n",
       "      <td>Auto</td>\n",
       "      <td>NaN</td>\n",
       "      <td>NaN</td>\n",
       "      <td>Import Shuttle</td>\n",
       "      <td>NaN</td>\n",
       "      <td>2023-08-28 00:50:44.090</td>\n",
       "      <td>2023-08-28</td>\n",
       "      <td>00:50:44.090000</td>\n",
       "      <td>0</td>\n",
       "      <td>50</td>\n",
       "    </tr>\n",
       "    <tr>\n",
       "      <th>3196</th>\n",
       "      <td>34480</td>\n",
       "      <td>B9307UIY</td>\n",
       "      <td>00000000000</td>\n",
       "      <td>Truck Losbak</td>\n",
       "      <td>GATE 3</td>\n",
       "      <td>SUCCESS</td>\n",
       "      <td>Input Manual</td>\n",
       "      <td>TRUCK CANNOT LOSBAK</td>\n",
       "      <td>-</td>\n",
       "      <td>Import Shuttle</td>\n",
       "      <td>CSNU1217351</td>\n",
       "      <td>2023-08-28 00:39:00.883</td>\n",
       "      <td>2023-08-28</td>\n",
       "      <td>00:39:00.883000</td>\n",
       "      <td>0</td>\n",
       "      <td>39</td>\n",
       "    </tr>\n",
       "    <tr>\n",
       "      <th>3197</th>\n",
       "      <td>34972</td>\n",
       "      <td>B9361UIZ</td>\n",
       "      <td>00000000000</td>\n",
       "      <td>Truck Losbak</td>\n",
       "      <td>GATE 4</td>\n",
       "      <td>SUCCESS</td>\n",
       "      <td>Input Manual</td>\n",
       "      <td>TRUCK CANNOT LOSBAK</td>\n",
       "      <td>-</td>\n",
       "      <td>Import Shuttle</td>\n",
       "      <td>OOLU0580879</td>\n",
       "      <td>2023-08-28 00:34:26.673</td>\n",
       "      <td>2023-08-28</td>\n",
       "      <td>00:34:26.673000</td>\n",
       "      <td>0</td>\n",
       "      <td>34</td>\n",
       "    </tr>\n",
       "    <tr>\n",
       "      <th>3198</th>\n",
       "      <td>1311351276</td>\n",
       "      <td>B9989UIV</td>\n",
       "      <td>00000000000</td>\n",
       "      <td>Truck Losbak</td>\n",
       "      <td>GATE 3</td>\n",
       "      <td>SUCCESS</td>\n",
       "      <td>Input Manual</td>\n",
       "      <td>TRUCK CANNOT LOSBAK</td>\n",
       "      <td>-</td>\n",
       "      <td>Import Shuttle</td>\n",
       "      <td>TLLU3215879</td>\n",
       "      <td>2023-08-28 00:33:47.430</td>\n",
       "      <td>2023-08-28</td>\n",
       "      <td>00:33:47.430000</td>\n",
       "      <td>0</td>\n",
       "      <td>33</td>\n",
       "    </tr>\n",
       "  </tbody>\n",
       "</table>\n",
       "<p>3199 rows × 16 columns</p>\n",
       "</div>"
      ],
      "text/plain": [
       "            RFID TRUCK NO.          OCR            TYPE TRUCK GATE NO.  \\\n",
       "0          31631  B9089BEI  00000000000          Truck Losbak   GATE 3   \n",
       "1          34522  B9583UIZ  FCIU7178890  Truck Full Container   GATE 1   \n",
       "2          36308  B9484UEM  SEKU4980843  Truck Full Container   GATE 2   \n",
       "3          36308  B9484UEM  00000000000          Truck Losbak   GATE 3   \n",
       "4          34522  B9583UIZ  00000000000          Truck Losbak   GATE 4   \n",
       "...          ...       ...          ...                   ...      ...   \n",
       "3194       34972  B9361UIZ  00000000000          Truck Losbak   GATE 1   \n",
       "3195  1311351276  B9989UIV  00000000000          Truck Losbak   GATE 2   \n",
       "3196       34480  B9307UIY  00000000000          Truck Losbak   GATE 3   \n",
       "3197       34972  B9361UIZ  00000000000          Truck Losbak   GATE 4   \n",
       "3198  1311351276  B9989UIV  00000000000          Truck Losbak   GATE 3   \n",
       "\n",
       "       STATUS  GATE PROCESS  \\\n",
       "0     SUCCESS          Auto   \n",
       "1     SUCCESS  Input Manual   \n",
       "2     SUCCESS  Input Manual   \n",
       "3     SUCCESS          Auto   \n",
       "4     SUCCESS          Auto   \n",
       "...       ...           ...   \n",
       "3194  SUCCESS          Auto   \n",
       "3195  SUCCESS          Auto   \n",
       "3196  SUCCESS  Input Manual   \n",
       "3197  SUCCESS  Input Manual   \n",
       "3198  SUCCESS  Input Manual   \n",
       "\n",
       "                                                  ALERT REMARK OPERATOR  \\\n",
       "0                                                   NaN             NaN   \n",
       "1     DOCUMENT BC NOT BC2.0, PLEASE RELEASE DOCUMENT BC       Ocr gagal   \n",
       "2     DOCUMENT BC NOT BC2.0, PLEASE RELEASE DOCUMENT BC       Ocr gagal   \n",
       "3                                                   NaN             NaN   \n",
       "4                                                   NaN             NaN   \n",
       "...                                                 ...             ...   \n",
       "3194                                                NaN             NaN   \n",
       "3195                                                NaN             NaN   \n",
       "3196                                TRUCK CANNOT LOSBAK               -   \n",
       "3197                                TRUCK CANNOT LOSBAK               -   \n",
       "3198                                TRUCK CANNOT LOSBAK               -   \n",
       "\n",
       "           ORDER TYPE ACTUAL CONTAINER                 DATETIME        Date  \\\n",
       "0     Import Delivery              NaN  2023-09-03 23:03:37.833  2023-09-03   \n",
       "1     Import Delivery      FCIU7178890  2023-09-03 22:01:09.917  2023-09-03   \n",
       "2     Import Delivery      SEKU4980843  2023-09-03 21:58:44.470  2023-09-03   \n",
       "3     Import Delivery              NaN  2023-09-03 21:41:07.773  2023-09-03   \n",
       "4     Import Delivery              NaN  2023-09-03 21:25:58.783  2023-09-03   \n",
       "...               ...              ...                      ...         ...   \n",
       "3194   Import Shuttle              NaN  2023-08-28 00:51:37.073  2023-08-28   \n",
       "3195   Import Shuttle              NaN  2023-08-28 00:50:44.090  2023-08-28   \n",
       "3196   Import Shuttle      CSNU1217351  2023-08-28 00:39:00.883  2023-08-28   \n",
       "3197   Import Shuttle      OOLU0580879  2023-08-28 00:34:26.673  2023-08-28   \n",
       "3198   Import Shuttle      TLLU3215879  2023-08-28 00:33:47.430  2023-08-28   \n",
       "\n",
       "                 Time  Hour  Minute  \n",
       "0     23:03:37.833000    23       3  \n",
       "1     22:01:09.917000    22       1  \n",
       "2     21:58:44.470000    21      58  \n",
       "3     21:41:07.773000    21      41  \n",
       "4     21:25:58.783000    21      25  \n",
       "...               ...   ...     ...  \n",
       "3194  00:51:37.073000     0      51  \n",
       "3195  00:50:44.090000     0      50  \n",
       "3196  00:39:00.883000     0      39  \n",
       "3197  00:34:26.673000     0      34  \n",
       "3198  00:33:47.430000     0      33  \n",
       "\n",
       "[3199 rows x 16 columns]"
      ]
     },
     "execution_count": 13,
     "metadata": {},
     "output_type": "execute_result"
    }
   ],
   "source": [
    "df_success"
   ]
  },
  {
   "cell_type": "code",
   "execution_count": 14,
   "id": "b8d110a9",
   "metadata": {},
   "outputs": [],
   "source": [
    "data2 = data1.drop(data1[data1['GATE PROCESS']=='Master CID'].index)"
   ]
  },
  {
   "cell_type": "code",
   "execution_count": 15,
   "id": "97e72397",
   "metadata": {},
   "outputs": [],
   "source": [
    "data3 = data1.drop(data1[data1['GATE PROCESS']=='Not Process'].index)"
   ]
  },
  {
   "cell_type": "code",
   "execution_count": 16,
   "id": "1ff92b7f",
   "metadata": {
    "scrolled": true
   },
   "outputs": [
    {
     "data": {
      "text/html": [
       "<div>\n",
       "<style scoped>\n",
       "    .dataframe tbody tr th:only-of-type {\n",
       "        vertical-align: middle;\n",
       "    }\n",
       "\n",
       "    .dataframe tbody tr th {\n",
       "        vertical-align: top;\n",
       "    }\n",
       "\n",
       "    .dataframe thead th {\n",
       "        text-align: right;\n",
       "    }\n",
       "</style>\n",
       "<table border=\"1\" class=\"dataframe\">\n",
       "  <thead>\n",
       "    <tr style=\"text-align: right;\">\n",
       "      <th></th>\n",
       "      <th>index</th>\n",
       "      <th>GATE NO.</th>\n",
       "    </tr>\n",
       "  </thead>\n",
       "  <tbody>\n",
       "    <tr>\n",
       "      <th>0</th>\n",
       "      <td>GATE 2</td>\n",
       "      <td>977</td>\n",
       "    </tr>\n",
       "    <tr>\n",
       "      <th>1</th>\n",
       "      <td>GATE 3</td>\n",
       "      <td>891</td>\n",
       "    </tr>\n",
       "    <tr>\n",
       "      <th>2</th>\n",
       "      <td>GATE 4</td>\n",
       "      <td>710</td>\n",
       "    </tr>\n",
       "    <tr>\n",
       "      <th>3</th>\n",
       "      <td>GATE 1</td>\n",
       "      <td>620</td>\n",
       "    </tr>\n",
       "    <tr>\n",
       "      <th>4</th>\n",
       "      <td>GATE 5</td>\n",
       "      <td>1</td>\n",
       "    </tr>\n",
       "  </tbody>\n",
       "</table>\n",
       "</div>"
      ],
      "text/plain": [
       "    index  GATE NO.\n",
       "0  GATE 2       977\n",
       "1  GATE 3       891\n",
       "2  GATE 4       710\n",
       "3  GATE 1       620\n",
       "4  GATE 5         1"
      ]
     },
     "execution_count": 16,
     "metadata": {},
     "output_type": "execute_result"
    }
   ],
   "source": [
    "df_gate_total = pd.DataFrame(data3['GATE NO.'].value_counts()).reset_index()\n",
    "df_gate_total"
   ]
  },
  {
   "cell_type": "code",
   "execution_count": 17,
   "id": "ba731ddd",
   "metadata": {},
   "outputs": [
    {
     "data": {
      "text/html": [
       "<div>\n",
       "<style scoped>\n",
       "    .dataframe tbody tr th:only-of-type {\n",
       "        vertical-align: middle;\n",
       "    }\n",
       "\n",
       "    .dataframe tbody tr th {\n",
       "        vertical-align: top;\n",
       "    }\n",
       "\n",
       "    .dataframe thead th {\n",
       "        text-align: right;\n",
       "    }\n",
       "</style>\n",
       "<table border=\"1\" class=\"dataframe\">\n",
       "  <thead>\n",
       "    <tr style=\"text-align: right;\">\n",
       "      <th></th>\n",
       "      <th>GATE</th>\n",
       "      <th>Total</th>\n",
       "    </tr>\n",
       "  </thead>\n",
       "  <tbody>\n",
       "    <tr>\n",
       "      <th>0</th>\n",
       "      <td>GATE 1</td>\n",
       "      <td>620</td>\n",
       "    </tr>\n",
       "    <tr>\n",
       "      <th>1</th>\n",
       "      <td>GATE 2</td>\n",
       "      <td>977</td>\n",
       "    </tr>\n",
       "    <tr>\n",
       "      <th>2</th>\n",
       "      <td>GATE 3</td>\n",
       "      <td>891</td>\n",
       "    </tr>\n",
       "    <tr>\n",
       "      <th>3</th>\n",
       "      <td>GATE 4</td>\n",
       "      <td>710</td>\n",
       "    </tr>\n",
       "    <tr>\n",
       "      <th>4</th>\n",
       "      <td>GATE 5</td>\n",
       "      <td>1</td>\n",
       "    </tr>\n",
       "  </tbody>\n",
       "</table>\n",
       "</div>"
      ],
      "text/plain": [
       "     GATE  Total\n",
       "0  GATE 1    620\n",
       "1  GATE 2    977\n",
       "2  GATE 3    891\n",
       "3  GATE 4    710\n",
       "4  GATE 5      1"
      ]
     },
     "execution_count": 17,
     "metadata": {},
     "output_type": "execute_result"
    }
   ],
   "source": [
    "df_gate_total = df_gate_total.rename(columns={'index':'GATE','GATE NO.':'Total'}).sort_values(by=['GATE'])\n",
    "df_gate_total.reset_index(drop=True, inplace=True)\n",
    "df_gate_total"
   ]
  },
  {
   "cell_type": "code",
   "execution_count": 18,
   "id": "7b72f8b2",
   "metadata": {},
   "outputs": [],
   "source": [
    "df_gate_auto = pd.DataFrame(df_success[df_success['GATE PROCESS'] == 'Auto']['GATE NO.'].value_counts()).reset_index()\n"
   ]
  },
  {
   "cell_type": "code",
   "execution_count": 19,
   "id": "02f318f0",
   "metadata": {},
   "outputs": [],
   "source": [
    "df_gate_auto = df_gate_auto.rename(columns={'index':'GATE','GATE NO.':'Auto'}).sort_values(by=['GATE'])\n",
    "df_gate_auto.reset_index(drop=True, inplace=True)"
   ]
  },
  {
   "cell_type": "code",
   "execution_count": 20,
   "id": "b41459cd",
   "metadata": {
    "scrolled": false
   },
   "outputs": [],
   "source": [
    "#df_gate_auto.loc[len(df_gate_auto.index)] = ['GATE 5', 0] "
   ]
  },
  {
   "cell_type": "code",
   "execution_count": 21,
   "id": "c3847695",
   "metadata": {},
   "outputs": [
    {
     "data": {
      "text/html": [
       "<div>\n",
       "<style scoped>\n",
       "    .dataframe tbody tr th:only-of-type {\n",
       "        vertical-align: middle;\n",
       "    }\n",
       "\n",
       "    .dataframe tbody tr th {\n",
       "        vertical-align: top;\n",
       "    }\n",
       "\n",
       "    .dataframe thead th {\n",
       "        text-align: right;\n",
       "    }\n",
       "</style>\n",
       "<table border=\"1\" class=\"dataframe\">\n",
       "  <thead>\n",
       "    <tr style=\"text-align: right;\">\n",
       "      <th></th>\n",
       "      <th>GATE</th>\n",
       "      <th>Auto</th>\n",
       "    </tr>\n",
       "  </thead>\n",
       "  <tbody>\n",
       "    <tr>\n",
       "      <th>0</th>\n",
       "      <td>GATE 1</td>\n",
       "      <td>514</td>\n",
       "    </tr>\n",
       "    <tr>\n",
       "      <th>1</th>\n",
       "      <td>GATE 2</td>\n",
       "      <td>898</td>\n",
       "    </tr>\n",
       "    <tr>\n",
       "      <th>2</th>\n",
       "      <td>GATE 3</td>\n",
       "      <td>781</td>\n",
       "    </tr>\n",
       "    <tr>\n",
       "      <th>3</th>\n",
       "      <td>GATE 4</td>\n",
       "      <td>603</td>\n",
       "    </tr>\n",
       "    <tr>\n",
       "      <th>4</th>\n",
       "      <td>GATE 5</td>\n",
       "      <td>1</td>\n",
       "    </tr>\n",
       "  </tbody>\n",
       "</table>\n",
       "</div>"
      ],
      "text/plain": [
       "     GATE  Auto\n",
       "0  GATE 1   514\n",
       "1  GATE 2   898\n",
       "2  GATE 3   781\n",
       "3  GATE 4   603\n",
       "4  GATE 5     1"
      ]
     },
     "execution_count": 21,
     "metadata": {},
     "output_type": "execute_result"
    }
   ],
   "source": [
    "df_gate_auto"
   ]
  },
  {
   "cell_type": "code",
   "execution_count": 22,
   "id": "a53af5d3",
   "metadata": {},
   "outputs": [],
   "source": [
    "df_gate_manuals = df_success.drop(df_success[(df_success['OCR']==df_success['ACTUAL CONTAINER'])].index)"
   ]
  },
  {
   "cell_type": "code",
   "execution_count": 23,
   "id": "13b78ce3",
   "metadata": {},
   "outputs": [],
   "source": [
    "df_gate_manual = pd.DataFrame(df_gate_manuals[df_gate_manuals['GATE PROCESS'] == 'Input Manual']['GATE NO.'].value_counts()).reset_index()"
   ]
  },
  {
   "cell_type": "code",
   "execution_count": 24,
   "id": "b75373ea",
   "metadata": {},
   "outputs": [],
   "source": [
    "df_gate_manual = df_gate_manual.rename(columns={'index':'GATE','GATE NO.':'Manual (OCR Problem)'}).sort_values(by=['GATE'])\n",
    "df_gate_manual.reset_index(drop=True, inplace=True)"
   ]
  },
  {
   "cell_type": "code",
   "execution_count": 25,
   "id": "a0f9fc6c",
   "metadata": {},
   "outputs": [],
   "source": [
    "#df_gate_manual.loc[len(df_gate_manual.index)] = ['GATE 4', 0]\n",
    "#df_gate_manual.loc[len(df_gate_manual.index)] = ['GATE 5', 0]"
   ]
  },
  {
   "cell_type": "code",
   "execution_count": 26,
   "id": "db93d3b0",
   "metadata": {
    "scrolled": true
   },
   "outputs": [
    {
     "data": {
      "text/html": [
       "<div>\n",
       "<style scoped>\n",
       "    .dataframe tbody tr th:only-of-type {\n",
       "        vertical-align: middle;\n",
       "    }\n",
       "\n",
       "    .dataframe tbody tr th {\n",
       "        vertical-align: top;\n",
       "    }\n",
       "\n",
       "    .dataframe thead th {\n",
       "        text-align: right;\n",
       "    }\n",
       "</style>\n",
       "<table border=\"1\" class=\"dataframe\">\n",
       "  <thead>\n",
       "    <tr style=\"text-align: right;\">\n",
       "      <th></th>\n",
       "      <th>GATE</th>\n",
       "      <th>Manual (OCR Problem)</th>\n",
       "    </tr>\n",
       "  </thead>\n",
       "  <tbody>\n",
       "    <tr>\n",
       "      <th>0</th>\n",
       "      <td>GATE 1</td>\n",
       "      <td>100</td>\n",
       "    </tr>\n",
       "    <tr>\n",
       "      <th>1</th>\n",
       "      <td>GATE 2</td>\n",
       "      <td>68</td>\n",
       "    </tr>\n",
       "    <tr>\n",
       "      <th>2</th>\n",
       "      <td>GATE 3</td>\n",
       "      <td>106</td>\n",
       "    </tr>\n",
       "    <tr>\n",
       "      <th>3</th>\n",
       "      <td>GATE 4</td>\n",
       "      <td>105</td>\n",
       "    </tr>\n",
       "  </tbody>\n",
       "</table>\n",
       "</div>"
      ],
      "text/plain": [
       "     GATE  Manual (OCR Problem)\n",
       "0  GATE 1                   100\n",
       "1  GATE 2                    68\n",
       "2  GATE 3                   106\n",
       "3  GATE 4                   105"
      ]
     },
     "execution_count": 26,
     "metadata": {},
     "output_type": "execute_result"
    }
   ],
   "source": [
    "df_gate_manual"
   ]
  },
  {
   "cell_type": "code",
   "execution_count": 27,
   "id": "d71149e1",
   "metadata": {},
   "outputs": [],
   "source": [
    "df_manuals_others = df_success.drop(df_success[(df_success['OCR']!=df_success['ACTUAL CONTAINER'])].index)"
   ]
  },
  {
   "cell_type": "code",
   "execution_count": 28,
   "id": "257a8fdd",
   "metadata": {},
   "outputs": [],
   "source": [
    "df_manual_others = pd.DataFrame(df_manuals_others[df_manuals_others['GATE PROCESS'] == 'Input Manual']['GATE NO.'].value_counts()).reset_index()"
   ]
  },
  {
   "cell_type": "code",
   "execution_count": 29,
   "id": "c28c8e19",
   "metadata": {},
   "outputs": [],
   "source": [
    "df_manual_others = df_manual_others.rename(columns={'index':'GATE','GATE NO.':'Manual (Others)'}).sort_values(by=['GATE'])\n",
    "df_gate_manual.reset_index(drop=True, inplace=True)"
   ]
  },
  {
   "cell_type": "code",
   "execution_count": 30,
   "id": "06ffaa68",
   "metadata": {},
   "outputs": [],
   "source": [
    "#df_manual_others.loc[len(df_manual_others.index)] = ['GATE 5', 0]"
   ]
  },
  {
   "cell_type": "code",
   "execution_count": 31,
   "id": "34708e9c",
   "metadata": {},
   "outputs": [
    {
     "data": {
      "text/html": [
       "<div>\n",
       "<style scoped>\n",
       "    .dataframe tbody tr th:only-of-type {\n",
       "        vertical-align: middle;\n",
       "    }\n",
       "\n",
       "    .dataframe tbody tr th {\n",
       "        vertical-align: top;\n",
       "    }\n",
       "\n",
       "    .dataframe thead th {\n",
       "        text-align: right;\n",
       "    }\n",
       "</style>\n",
       "<table border=\"1\" class=\"dataframe\">\n",
       "  <thead>\n",
       "    <tr style=\"text-align: right;\">\n",
       "      <th></th>\n",
       "      <th>GATE</th>\n",
       "      <th>Manual (Others)</th>\n",
       "    </tr>\n",
       "  </thead>\n",
       "  <tbody>\n",
       "    <tr>\n",
       "      <th>1</th>\n",
       "      <td>GATE 1</td>\n",
       "      <td>6</td>\n",
       "    </tr>\n",
       "    <tr>\n",
       "      <th>0</th>\n",
       "      <td>GATE 2</td>\n",
       "      <td>11</td>\n",
       "    </tr>\n",
       "    <tr>\n",
       "      <th>2</th>\n",
       "      <td>GATE 3</td>\n",
       "      <td>4</td>\n",
       "    </tr>\n",
       "    <tr>\n",
       "      <th>3</th>\n",
       "      <td>GATE 4</td>\n",
       "      <td>2</td>\n",
       "    </tr>\n",
       "  </tbody>\n",
       "</table>\n",
       "</div>"
      ],
      "text/plain": [
       "     GATE  Manual (Others)\n",
       "1  GATE 1                6\n",
       "0  GATE 2               11\n",
       "2  GATE 3                4\n",
       "3  GATE 4                2"
      ]
     },
     "execution_count": 31,
     "metadata": {},
     "output_type": "execute_result"
    }
   ],
   "source": [
    "df_manual_others"
   ]
  },
  {
   "cell_type": "code",
   "execution_count": 32,
   "id": "7fea9f02",
   "metadata": {},
   "outputs": [],
   "source": [
    "df_master = pd.DataFrame(data1[data1['GATE PROCESS'] == 'Master CID']['GATE NO.'].value_counts()).reset_index()"
   ]
  },
  {
   "cell_type": "code",
   "execution_count": 33,
   "id": "1f55dba9",
   "metadata": {},
   "outputs": [],
   "source": [
    "df_master = df_master.rename(columns={'index':'GATE','GATE NO.':'Master CID'}).sort_values(by=['GATE'])\n",
    "df_master.reset_index(drop=True, inplace=True)"
   ]
  },
  {
   "cell_type": "code",
   "execution_count": 34,
   "id": "5e460139",
   "metadata": {},
   "outputs": [],
   "source": [
    "df_master.loc[len(df_master.index)] = ['GATE 4', 0]"
   ]
  },
  {
   "cell_type": "code",
   "execution_count": 35,
   "id": "9215d5a2",
   "metadata": {},
   "outputs": [
    {
     "data": {
      "text/html": [
       "<div>\n",
       "<style scoped>\n",
       "    .dataframe tbody tr th:only-of-type {\n",
       "        vertical-align: middle;\n",
       "    }\n",
       "\n",
       "    .dataframe tbody tr th {\n",
       "        vertical-align: top;\n",
       "    }\n",
       "\n",
       "    .dataframe thead th {\n",
       "        text-align: right;\n",
       "    }\n",
       "</style>\n",
       "<table border=\"1\" class=\"dataframe\">\n",
       "  <thead>\n",
       "    <tr style=\"text-align: right;\">\n",
       "      <th></th>\n",
       "      <th>GATE</th>\n",
       "      <th>Master CID</th>\n",
       "    </tr>\n",
       "  </thead>\n",
       "  <tbody>\n",
       "    <tr>\n",
       "      <th>0</th>\n",
       "      <td>GATE 4</td>\n",
       "      <td>0</td>\n",
       "    </tr>\n",
       "  </tbody>\n",
       "</table>\n",
       "</div>"
      ],
      "text/plain": [
       "     GATE  Master CID\n",
       "0  GATE 4           0"
      ]
     },
     "execution_count": 35,
     "metadata": {},
     "output_type": "execute_result"
    }
   ],
   "source": [
    "df_master "
   ]
  },
  {
   "cell_type": "code",
   "execution_count": 36,
   "id": "52f380a8",
   "metadata": {},
   "outputs": [],
   "source": [
    "df_gate_summary = pd.merge(pd.merge(pd.merge(pd.merge(df_gate_auto,df_gate_manual,on='GATE', how = 'outer'),df_manual_others, on='GATE', how ='outer'),df_master, on='GATE', how ='outer'),df_gate_total,on='GATE')"
   ]
  },
  {
   "cell_type": "code",
   "execution_count": 37,
   "id": "275bcdbf",
   "metadata": {
    "scrolled": true
   },
   "outputs": [
    {
     "data": {
      "text/html": [
       "<div>\n",
       "<style scoped>\n",
       "    .dataframe tbody tr th:only-of-type {\n",
       "        vertical-align: middle;\n",
       "    }\n",
       "\n",
       "    .dataframe tbody tr th {\n",
       "        vertical-align: top;\n",
       "    }\n",
       "\n",
       "    .dataframe thead th {\n",
       "        text-align: right;\n",
       "    }\n",
       "</style>\n",
       "<table border=\"1\" class=\"dataframe\">\n",
       "  <thead>\n",
       "    <tr style=\"text-align: right;\">\n",
       "      <th></th>\n",
       "      <th>GATE</th>\n",
       "      <th>Auto</th>\n",
       "      <th>Manual (OCR Problem)</th>\n",
       "      <th>Manual (Others)</th>\n",
       "      <th>Master CID</th>\n",
       "      <th>Total</th>\n",
       "    </tr>\n",
       "  </thead>\n",
       "  <tbody>\n",
       "    <tr>\n",
       "      <th>0</th>\n",
       "      <td>GATE 1</td>\n",
       "      <td>514</td>\n",
       "      <td>100.0</td>\n",
       "      <td>6.0</td>\n",
       "      <td>0.0</td>\n",
       "      <td>620</td>\n",
       "    </tr>\n",
       "    <tr>\n",
       "      <th>1</th>\n",
       "      <td>GATE 2</td>\n",
       "      <td>898</td>\n",
       "      <td>68.0</td>\n",
       "      <td>11.0</td>\n",
       "      <td>0.0</td>\n",
       "      <td>977</td>\n",
       "    </tr>\n",
       "    <tr>\n",
       "      <th>2</th>\n",
       "      <td>GATE 3</td>\n",
       "      <td>781</td>\n",
       "      <td>106.0</td>\n",
       "      <td>4.0</td>\n",
       "      <td>0.0</td>\n",
       "      <td>891</td>\n",
       "    </tr>\n",
       "    <tr>\n",
       "      <th>3</th>\n",
       "      <td>GATE 4</td>\n",
       "      <td>603</td>\n",
       "      <td>105.0</td>\n",
       "      <td>2.0</td>\n",
       "      <td>0.0</td>\n",
       "      <td>710</td>\n",
       "    </tr>\n",
       "    <tr>\n",
       "      <th>4</th>\n",
       "      <td>GATE 5</td>\n",
       "      <td>1</td>\n",
       "      <td>0.0</td>\n",
       "      <td>0.0</td>\n",
       "      <td>0.0</td>\n",
       "      <td>1</td>\n",
       "    </tr>\n",
       "  </tbody>\n",
       "</table>\n",
       "</div>"
      ],
      "text/plain": [
       "     GATE  Auto  Manual (OCR Problem)  Manual (Others)  Master CID  Total\n",
       "0  GATE 1   514                 100.0              6.0         0.0    620\n",
       "1  GATE 2   898                  68.0             11.0         0.0    977\n",
       "2  GATE 3   781                 106.0              4.0         0.0    891\n",
       "3  GATE 4   603                 105.0              2.0         0.0    710\n",
       "4  GATE 5     1                   0.0              0.0         0.0      1"
      ]
     },
     "execution_count": 37,
     "metadata": {},
     "output_type": "execute_result"
    }
   ],
   "source": [
    "df_gate_summary2 = df_gate_summary.fillna(0)\n",
    "df_gate_summary2"
   ]
  },
  {
   "cell_type": "code",
   "execution_count": 38,
   "id": "329dd9e0",
   "metadata": {},
   "outputs": [
    {
     "data": {
      "text/html": [
       "<div>\n",
       "<style scoped>\n",
       "    .dataframe tbody tr th:only-of-type {\n",
       "        vertical-align: middle;\n",
       "    }\n",
       "\n",
       "    .dataframe tbody tr th {\n",
       "        vertical-align: top;\n",
       "    }\n",
       "\n",
       "    .dataframe thead th {\n",
       "        text-align: right;\n",
       "    }\n",
       "</style>\n",
       "<table border=\"1\" class=\"dataframe\">\n",
       "  <thead>\n",
       "    <tr style=\"text-align: right;\">\n",
       "      <th></th>\n",
       "      <th>GATE</th>\n",
       "      <th>Auto</th>\n",
       "      <th>Manual (OCR Problem)</th>\n",
       "      <th>Manual (Others)</th>\n",
       "      <th>Master CID</th>\n",
       "      <th>Total</th>\n",
       "    </tr>\n",
       "  </thead>\n",
       "  <tbody>\n",
       "    <tr>\n",
       "      <th>0</th>\n",
       "      <td>GATE 1</td>\n",
       "      <td>514</td>\n",
       "      <td>100.0</td>\n",
       "      <td>6.0</td>\n",
       "      <td>0.0</td>\n",
       "      <td>620</td>\n",
       "    </tr>\n",
       "    <tr>\n",
       "      <th>1</th>\n",
       "      <td>GATE 2</td>\n",
       "      <td>898</td>\n",
       "      <td>68.0</td>\n",
       "      <td>11.0</td>\n",
       "      <td>0.0</td>\n",
       "      <td>977</td>\n",
       "    </tr>\n",
       "    <tr>\n",
       "      <th>2</th>\n",
       "      <td>GATE 3</td>\n",
       "      <td>781</td>\n",
       "      <td>106.0</td>\n",
       "      <td>4.0</td>\n",
       "      <td>0.0</td>\n",
       "      <td>891</td>\n",
       "    </tr>\n",
       "    <tr>\n",
       "      <th>3</th>\n",
       "      <td>GATE 4</td>\n",
       "      <td>603</td>\n",
       "      <td>105.0</td>\n",
       "      <td>2.0</td>\n",
       "      <td>0.0</td>\n",
       "      <td>710</td>\n",
       "    </tr>\n",
       "    <tr>\n",
       "      <th>4</th>\n",
       "      <td>GATE 5</td>\n",
       "      <td>1</td>\n",
       "      <td>0.0</td>\n",
       "      <td>0.0</td>\n",
       "      <td>0.0</td>\n",
       "      <td>1</td>\n",
       "    </tr>\n",
       "  </tbody>\n",
       "</table>\n",
       "</div>"
      ],
      "text/plain": [
       "     GATE  Auto  Manual (OCR Problem)  Manual (Others)  Master CID  Total\n",
       "0  GATE 1   514                 100.0              6.0         0.0    620\n",
       "1  GATE 2   898                  68.0             11.0         0.0    977\n",
       "2  GATE 3   781                 106.0              4.0         0.0    891\n",
       "3  GATE 4   603                 105.0              2.0         0.0    710\n",
       "4  GATE 5     1                   0.0              0.0         0.0      1"
      ]
     },
     "execution_count": 38,
     "metadata": {},
     "output_type": "execute_result"
    }
   ],
   "source": [
    "df_gate_summary2"
   ]
  },
  {
   "cell_type": "code",
   "execution_count": 39,
   "id": "57dd8236",
   "metadata": {
    "scrolled": false
   },
   "outputs": [],
   "source": [
    "df_gate_summary2['Auto'] = df_gate_summary2['Auto'].astype(int)\n",
    "df_gate_summary2['Manual (Others)'] = df_gate_summary2['Manual (Others)'].astype(int)\n",
    "df_gate_summary2['Master CID'] = df_gate_summary2['Master CID'].astype(int)\n",
    "df_gate_summary2['Manual (OCR Problem)'] = df_gate_summary2['Manual (OCR Problem)'].astype(int)"
   ]
  },
  {
   "cell_type": "code",
   "execution_count": 40,
   "id": "5d9ee7d3",
   "metadata": {},
   "outputs": [
    {
     "data": {
      "text/html": [
       "<div>\n",
       "<style scoped>\n",
       "    .dataframe tbody tr th:only-of-type {\n",
       "        vertical-align: middle;\n",
       "    }\n",
       "\n",
       "    .dataframe tbody tr th {\n",
       "        vertical-align: top;\n",
       "    }\n",
       "\n",
       "    .dataframe thead th {\n",
       "        text-align: right;\n",
       "    }\n",
       "</style>\n",
       "<table border=\"1\" class=\"dataframe\">\n",
       "  <thead>\n",
       "    <tr style=\"text-align: right;\">\n",
       "      <th></th>\n",
       "      <th>GATE</th>\n",
       "      <th>Auto</th>\n",
       "      <th>Manual (OCR Problem)</th>\n",
       "      <th>Manual (Others)</th>\n",
       "      <th>Master CID</th>\n",
       "      <th>Total</th>\n",
       "    </tr>\n",
       "  </thead>\n",
       "  <tbody>\n",
       "    <tr>\n",
       "      <th>0</th>\n",
       "      <td>GATE 1</td>\n",
       "      <td>514</td>\n",
       "      <td>100</td>\n",
       "      <td>6</td>\n",
       "      <td>0</td>\n",
       "      <td>620</td>\n",
       "    </tr>\n",
       "    <tr>\n",
       "      <th>1</th>\n",
       "      <td>GATE 2</td>\n",
       "      <td>898</td>\n",
       "      <td>68</td>\n",
       "      <td>11</td>\n",
       "      <td>0</td>\n",
       "      <td>977</td>\n",
       "    </tr>\n",
       "    <tr>\n",
       "      <th>2</th>\n",
       "      <td>GATE 3</td>\n",
       "      <td>781</td>\n",
       "      <td>106</td>\n",
       "      <td>4</td>\n",
       "      <td>0</td>\n",
       "      <td>891</td>\n",
       "    </tr>\n",
       "    <tr>\n",
       "      <th>3</th>\n",
       "      <td>GATE 4</td>\n",
       "      <td>603</td>\n",
       "      <td>105</td>\n",
       "      <td>2</td>\n",
       "      <td>0</td>\n",
       "      <td>710</td>\n",
       "    </tr>\n",
       "    <tr>\n",
       "      <th>4</th>\n",
       "      <td>GATE 5</td>\n",
       "      <td>1</td>\n",
       "      <td>0</td>\n",
       "      <td>0</td>\n",
       "      <td>0</td>\n",
       "      <td>1</td>\n",
       "    </tr>\n",
       "  </tbody>\n",
       "</table>\n",
       "</div>"
      ],
      "text/plain": [
       "     GATE  Auto  Manual (OCR Problem)  Manual (Others)  Master CID  Total\n",
       "0  GATE 1   514                   100                6           0    620\n",
       "1  GATE 2   898                    68               11           0    977\n",
       "2  GATE 3   781                   106                4           0    891\n",
       "3  GATE 4   603                   105                2           0    710\n",
       "4  GATE 5     1                     0                0           0      1"
      ]
     },
     "execution_count": 40,
     "metadata": {},
     "output_type": "execute_result"
    }
   ],
   "source": [
    "df_gate_summary2"
   ]
  },
  {
   "cell_type": "code",
   "execution_count": 41,
   "id": "9374554f",
   "metadata": {},
   "outputs": [],
   "source": [
    "df_gate = df_gate_summary.set_index('GATE')"
   ]
  },
  {
   "cell_type": "code",
   "execution_count": 42,
   "id": "4a10a257",
   "metadata": {},
   "outputs": [],
   "source": [
    "df_gate.drop('Total',axis=1,inplace=True)"
   ]
  },
  {
   "cell_type": "code",
   "execution_count": 43,
   "id": "9da80dee",
   "metadata": {},
   "outputs": [],
   "source": [
    "df_gate[np.isnan(df_gate)] = 0"
   ]
  },
  {
   "cell_type": "code",
   "execution_count": 44,
   "id": "44947f85",
   "metadata": {
    "scrolled": true
   },
   "outputs": [
    {
     "data": {
      "text/html": [
       "<div>\n",
       "<style scoped>\n",
       "    .dataframe tbody tr th:only-of-type {\n",
       "        vertical-align: middle;\n",
       "    }\n",
       "\n",
       "    .dataframe tbody tr th {\n",
       "        vertical-align: top;\n",
       "    }\n",
       "\n",
       "    .dataframe thead th {\n",
       "        text-align: right;\n",
       "    }\n",
       "</style>\n",
       "<table border=\"1\" class=\"dataframe\">\n",
       "  <thead>\n",
       "    <tr style=\"text-align: right;\">\n",
       "      <th></th>\n",
       "      <th>Auto</th>\n",
       "      <th>Manual (OCR Problem)</th>\n",
       "      <th>Manual (Others)</th>\n",
       "      <th>Master CID</th>\n",
       "    </tr>\n",
       "    <tr>\n",
       "      <th>GATE</th>\n",
       "      <th></th>\n",
       "      <th></th>\n",
       "      <th></th>\n",
       "      <th></th>\n",
       "    </tr>\n",
       "  </thead>\n",
       "  <tbody>\n",
       "    <tr>\n",
       "      <th>GATE 1</th>\n",
       "      <td>514</td>\n",
       "      <td>100.0</td>\n",
       "      <td>6.0</td>\n",
       "      <td>0.0</td>\n",
       "    </tr>\n",
       "    <tr>\n",
       "      <th>GATE 2</th>\n",
       "      <td>898</td>\n",
       "      <td>68.0</td>\n",
       "      <td>11.0</td>\n",
       "      <td>0.0</td>\n",
       "    </tr>\n",
       "    <tr>\n",
       "      <th>GATE 3</th>\n",
       "      <td>781</td>\n",
       "      <td>106.0</td>\n",
       "      <td>4.0</td>\n",
       "      <td>0.0</td>\n",
       "    </tr>\n",
       "    <tr>\n",
       "      <th>GATE 4</th>\n",
       "      <td>603</td>\n",
       "      <td>105.0</td>\n",
       "      <td>2.0</td>\n",
       "      <td>0.0</td>\n",
       "    </tr>\n",
       "    <tr>\n",
       "      <th>GATE 5</th>\n",
       "      <td>1</td>\n",
       "      <td>0.0</td>\n",
       "      <td>0.0</td>\n",
       "      <td>0.0</td>\n",
       "    </tr>\n",
       "  </tbody>\n",
       "</table>\n",
       "</div>"
      ],
      "text/plain": [
       "        Auto  Manual (OCR Problem)  Manual (Others)  Master CID\n",
       "GATE                                                           \n",
       "GATE 1   514                 100.0              6.0         0.0\n",
       "GATE 2   898                  68.0             11.0         0.0\n",
       "GATE 3   781                 106.0              4.0         0.0\n",
       "GATE 4   603                 105.0              2.0         0.0\n",
       "GATE 5     1                   0.0              0.0         0.0"
      ]
     },
     "execution_count": 44,
     "metadata": {},
     "output_type": "execute_result"
    }
   ],
   "source": [
    "df_gate"
   ]
  },
  {
   "cell_type": "code",
   "execution_count": 45,
   "id": "4ad25612",
   "metadata": {
    "scrolled": false
   },
   "outputs": [
    {
     "data": {
      "text/plain": [
       "<matplotlib.legend.Legend at 0x270e8952d90>"
      ]
     },
     "execution_count": 45,
     "metadata": {},
     "output_type": "execute_result"
    },
    {
     "data": {
      "image/png": "[encoded data removed]",
      "text/plain": [
       "<Figure size 936x720 with 1 Axes>"
      ]
     },
     "metadata": {
      "needs_background": "light"
     },
     "output_type": "display_data"
    }
   ],
   "source": [
    "fig, ax = plt.subplots(figsize=(13,10))\n",
    "list = ['#0d04bd','#ffff00','#f5a905']\n",
    "\n",
    "\n",
    "bottom = np.zeros(len(df_gate))\n",
    "\n",
    "for i, col in enumerate(df_gate.columns):\n",
    "  ax.bar(\n",
    "      df_gate.index, df_gate[col], bottom=bottom, label=col,color = list[i % len(list)] ,)\n",
    "  bottom += np.array(df_gate[col])\n",
    "\n",
    "\n",
    "\n",
    "# Let's put the annotations inside the bars themselves by using a\n",
    "# negative offset.\n",
    "y_offset = -15\n",
    "# For each patch (basically each rectangle within the bar), add a label.\n",
    "\n",
    "for bar in ax.patches:\n",
    "  ax.text(\n",
    "      # Put the text in the middle of each bar. get_x returns the start\n",
    "      # so we add half the width to get to the middle.\n",
    "      bar.get_x() + bar.get_width() / 2,\n",
    "      # Vertically, add the height of the bar to the start of the bar,\n",
    "      # along with the offset.\n",
    "      bar.get_height()/2 + bar.get_y() + y_offset,\n",
    "      # This is actual value we'll show.\n",
    "      round(bar.get_height()),\n",
    "      # Center the labels and style them a bit.\n",
    "      ha='center',\n",
    "      color='black',\n",
    "      size=14\n",
    "  )\n",
    "\n",
    "ax.set_title('OCR Success x OCR Failed')\n",
    "ax.legend()"
   ]
  },
  {
   "cell_type": "code",
   "execution_count": 46,
   "id": "1c8eb3ea",
   "metadata": {},
   "outputs": [
    {
     "data": {
      "text/plain": [
       "<matplotlib.legend.Legend at 0x270e972c700>"
      ]
     },
     "execution_count": 46,
     "metadata": {},
     "output_type": "execute_result"
    },
    {
     "data": {
      "image/png": "[encoded data removed]",
      "text/plain": [
       "<Figure size 720x576 with 1 Axes>"
      ]
     },
     "metadata": {
      "needs_background": "light"
     },
     "output_type": "display_data"
    }
   ],
   "source": [
    "fig, ax = plt.subplots(figsize=(10,8))\n",
    "list = ['#0d04bd','#ffff00','#fce005','#f5a905']\n",
    "\n",
    "\n",
    "bottom = np.zeros(len(df_gate))\n",
    "\n",
    "for i, col in enumerate(df_gate.columns):\n",
    "  ax.bar(\n",
    "      df_gate.index, df_gate[col], bottom=bottom, label=col,color = list[i % len(list)] ,)\n",
    "  bottom += np.array(df_gate[col])\n",
    "\n",
    "\n",
    "\n",
    "# Let's put the annotations inside the bars themselves by using a\n",
    "# negative offset.\n",
    "y_offset = -15\n",
    "\n",
    "#for p in ax.get_children()[:-1]:  # skip the last patch as it is the background\n",
    " #   if isinstance(p, Rectangle):\n",
    "  #      x, y = p.get_xy()\n",
    "   #     w, h = p.get_width(), p.get_height()\n",
    "    #    if h > 10:  # anything that have a height of 0 will not be annotated\n",
    "     #       ax.text(x + 0.5 * w, y + 0.5 * h, round(p.get_height()), va='center', ha='center', size=14)\n",
    "\n",
    "ax.set_title('OCR Success x OCR Failed')\n",
    "ax.legend()"
   ]
  },
  {
   "cell_type": "code",
   "execution_count": 47,
   "id": "1a9f6fd5",
   "metadata": {},
   "outputs": [],
   "source": [
    "data_manual = df_success.loc[df_success['GATE PROCESS']=='Input Manual'].reset_index(drop=True)"
   ]
  },
  {
   "cell_type": "code",
   "execution_count": 48,
   "id": "c0e37a65",
   "metadata": {},
   "outputs": [
    {
     "data": {
      "text/html": [
       "<div>\n",
       "<style scoped>\n",
       "    .dataframe tbody tr th:only-of-type {\n",
       "        vertical-align: middle;\n",
       "    }\n",
       "\n",
       "    .dataframe tbody tr th {\n",
       "        vertical-align: top;\n",
       "    }\n",
       "\n",
       "    .dataframe thead th {\n",
       "        text-align: right;\n",
       "    }\n",
       "</style>\n",
       "<table border=\"1\" class=\"dataframe\">\n",
       "  <thead>\n",
       "    <tr style=\"text-align: right;\">\n",
       "      <th></th>\n",
       "      <th>RFID</th>\n",
       "      <th>TRUCK NO.</th>\n",
       "      <th>OCR</th>\n",
       "      <th>TYPE TRUCK</th>\n",
       "      <th>GATE NO.</th>\n",
       "      <th>STATUS</th>\n",
       "      <th>GATE PROCESS</th>\n",
       "      <th>ALERT</th>\n",
       "      <th>REMARK OPERATOR</th>\n",
       "      <th>ORDER TYPE</th>\n",
       "      <th>ACTUAL CONTAINER</th>\n",
       "      <th>DATETIME</th>\n",
       "      <th>Date</th>\n",
       "      <th>Time</th>\n",
       "      <th>Hour</th>\n",
       "      <th>Minute</th>\n",
       "    </tr>\n",
       "  </thead>\n",
       "  <tbody>\n",
       "    <tr>\n",
       "      <th>0</th>\n",
       "      <td>34522</td>\n",
       "      <td>B9583UIZ</td>\n",
       "      <td>FCIU7178890</td>\n",
       "      <td>Truck Full Container</td>\n",
       "      <td>GATE 1</td>\n",
       "      <td>SUCCESS</td>\n",
       "      <td>Input Manual</td>\n",
       "      <td>DOCUMENT BC NOT BC2.0, PLEASE RELEASE DOCUMENT BC</td>\n",
       "      <td>Ocr gagal</td>\n",
       "      <td>Import Delivery</td>\n",
       "      <td>FCIU7178890</td>\n",
       "      <td>2023-09-03 22:01:09.917</td>\n",
       "      <td>2023-09-03</td>\n",
       "      <td>22:01:09.917000</td>\n",
       "      <td>22</td>\n",
       "      <td>1</td>\n",
       "    </tr>\n",
       "    <tr>\n",
       "      <th>1</th>\n",
       "      <td>36308</td>\n",
       "      <td>B9484UEM</td>\n",
       "      <td>SEKU4980843</td>\n",
       "      <td>Truck Full Container</td>\n",
       "      <td>GATE 2</td>\n",
       "      <td>SUCCESS</td>\n",
       "      <td>Input Manual</td>\n",
       "      <td>DOCUMENT BC NOT BC2.0, PLEASE RELEASE DOCUMENT BC</td>\n",
       "      <td>Ocr gagal</td>\n",
       "      <td>Import Delivery</td>\n",
       "      <td>SEKU4980843</td>\n",
       "      <td>2023-09-03 21:58:44.470</td>\n",
       "      <td>2023-09-03</td>\n",
       "      <td>21:58:44.470000</td>\n",
       "      <td>21</td>\n",
       "      <td>58</td>\n",
       "    </tr>\n",
       "    <tr>\n",
       "      <th>2</th>\n",
       "      <td>3131466465</td>\n",
       "      <td>B9365UIZ</td>\n",
       "      <td>IRHU4868510</td>\n",
       "      <td>Truck Full Container</td>\n",
       "      <td>GATE 1</td>\n",
       "      <td>SUCCESS</td>\n",
       "      <td>Input Manual</td>\n",
       "      <td>CONTAINER DOES NOT MATCH WITH DOCUMENT</td>\n",
       "      <td>Ocr gagal</td>\n",
       "      <td>Import Delivery</td>\n",
       "      <td>TRHU4868510</td>\n",
       "      <td>2023-09-03 20:54:07.423</td>\n",
       "      <td>2023-09-03</td>\n",
       "      <td>20:54:07.423000</td>\n",
       "      <td>20</td>\n",
       "      <td>54</td>\n",
       "    </tr>\n",
       "    <tr>\n",
       "      <th>3</th>\n",
       "      <td>3130722593</td>\n",
       "      <td>B9473UIZ</td>\n",
       "      <td>SKHU8102194</td>\n",
       "      <td>Truck Full Container</td>\n",
       "      <td>GATE 2</td>\n",
       "      <td>SUCCESS</td>\n",
       "      <td>Input Manual</td>\n",
       "      <td>DOCUMENT BC NOT BC2.0, PLEASE RELEASE DOCUMENT BC</td>\n",
       "      <td>Ocr gagal</td>\n",
       "      <td>Import Delivery</td>\n",
       "      <td>SKHU8102194</td>\n",
       "      <td>2023-09-03 20:50:08.797</td>\n",
       "      <td>2023-09-03</td>\n",
       "      <td>20:50:08.797000</td>\n",
       "      <td>20</td>\n",
       "      <td>50</td>\n",
       "    </tr>\n",
       "    <tr>\n",
       "      <th>4</th>\n",
       "      <td>34946</td>\n",
       "      <td>B9412UIZ</td>\n",
       "      <td>TGBU7144820</td>\n",
       "      <td>Truck Full Container</td>\n",
       "      <td>GATE 4</td>\n",
       "      <td>SUCCESS</td>\n",
       "      <td>Input Manual</td>\n",
       "      <td>CONTAINER DOES NOT MATCH WITH DOCUMENT</td>\n",
       "      <td>-</td>\n",
       "      <td>Import Shuttle</td>\n",
       "      <td>TGBU7144920</td>\n",
       "      <td>2023-09-03 19:51:03.880</td>\n",
       "      <td>2023-09-03</td>\n",
       "      <td>19:51:03.880000</td>\n",
       "      <td>19</td>\n",
       "      <td>51</td>\n",
       "    </tr>\n",
       "    <tr>\n",
       "      <th>...</th>\n",
       "      <td>...</td>\n",
       "      <td>...</td>\n",
       "      <td>...</td>\n",
       "      <td>...</td>\n",
       "      <td>...</td>\n",
       "      <td>...</td>\n",
       "      <td>...</td>\n",
       "      <td>...</td>\n",
       "      <td>...</td>\n",
       "      <td>...</td>\n",
       "      <td>...</td>\n",
       "      <td>...</td>\n",
       "      <td>...</td>\n",
       "      <td>...</td>\n",
       "      <td>...</td>\n",
       "      <td>...</td>\n",
       "    </tr>\n",
       "    <tr>\n",
       "      <th>397</th>\n",
       "      <td>34530</td>\n",
       "      <td>B9029UIW</td>\n",
       "      <td>00000000000</td>\n",
       "      <td>Truck Losbak</td>\n",
       "      <td>GATE 4</td>\n",
       "      <td>SUCCESS</td>\n",
       "      <td>Input Manual</td>\n",
       "      <td>TRUCK CANNOT LOSBAK</td>\n",
       "      <td>-</td>\n",
       "      <td>Import Shuttle</td>\n",
       "      <td>SEGU2296009</td>\n",
       "      <td>2023-08-28 01:26:33.467</td>\n",
       "      <td>2023-08-28</td>\n",
       "      <td>01:26:33.467000</td>\n",
       "      <td>1</td>\n",
       "      <td>26</td>\n",
       "    </tr>\n",
       "    <tr>\n",
       "      <th>398</th>\n",
       "      <td>31212</td>\n",
       "      <td>B9631JU</td>\n",
       "      <td>00000000000</td>\n",
       "      <td>Truck Losbak</td>\n",
       "      <td>GATE 3</td>\n",
       "      <td>SUCCESS</td>\n",
       "      <td>Input Manual</td>\n",
       "      <td>TRUCK CANNOT LOSBAK</td>\n",
       "      <td>-</td>\n",
       "      <td>Import Shuttle</td>\n",
       "      <td>CSLU1347316</td>\n",
       "      <td>2023-08-28 01:07:07.513</td>\n",
       "      <td>2023-08-28</td>\n",
       "      <td>01:07:07.513000</td>\n",
       "      <td>1</td>\n",
       "      <td>7</td>\n",
       "    </tr>\n",
       "    <tr>\n",
       "      <th>399</th>\n",
       "      <td>34480</td>\n",
       "      <td>B9307UIY</td>\n",
       "      <td>00000000000</td>\n",
       "      <td>Truck Losbak</td>\n",
       "      <td>GATE 3</td>\n",
       "      <td>SUCCESS</td>\n",
       "      <td>Input Manual</td>\n",
       "      <td>TRUCK CANNOT LOSBAK</td>\n",
       "      <td>-</td>\n",
       "      <td>Import Shuttle</td>\n",
       "      <td>CSNU1217351</td>\n",
       "      <td>2023-08-28 00:39:00.883</td>\n",
       "      <td>2023-08-28</td>\n",
       "      <td>00:39:00.883000</td>\n",
       "      <td>0</td>\n",
       "      <td>39</td>\n",
       "    </tr>\n",
       "    <tr>\n",
       "      <th>400</th>\n",
       "      <td>34972</td>\n",
       "      <td>B9361UIZ</td>\n",
       "      <td>00000000000</td>\n",
       "      <td>Truck Losbak</td>\n",
       "      <td>GATE 4</td>\n",
       "      <td>SUCCESS</td>\n",
       "      <td>Input Manual</td>\n",
       "      <td>TRUCK CANNOT LOSBAK</td>\n",
       "      <td>-</td>\n",
       "      <td>Import Shuttle</td>\n",
       "      <td>OOLU0580879</td>\n",
       "      <td>2023-08-28 00:34:26.673</td>\n",
       "      <td>2023-08-28</td>\n",
       "      <td>00:34:26.673000</td>\n",
       "      <td>0</td>\n",
       "      <td>34</td>\n",
       "    </tr>\n",
       "    <tr>\n",
       "      <th>401</th>\n",
       "      <td>1311351276</td>\n",
       "      <td>B9989UIV</td>\n",
       "      <td>00000000000</td>\n",
       "      <td>Truck Losbak</td>\n",
       "      <td>GATE 3</td>\n",
       "      <td>SUCCESS</td>\n",
       "      <td>Input Manual</td>\n",
       "      <td>TRUCK CANNOT LOSBAK</td>\n",
       "      <td>-</td>\n",
       "      <td>Import Shuttle</td>\n",
       "      <td>TLLU3215879</td>\n",
       "      <td>2023-08-28 00:33:47.430</td>\n",
       "      <td>2023-08-28</td>\n",
       "      <td>00:33:47.430000</td>\n",
       "      <td>0</td>\n",
       "      <td>33</td>\n",
       "    </tr>\n",
       "  </tbody>\n",
       "</table>\n",
       "<p>402 rows × 16 columns</p>\n",
       "</div>"
      ],
      "text/plain": [
       "           RFID TRUCK NO.          OCR            TYPE TRUCK GATE NO.  \\\n",
       "0         34522  B9583UIZ  FCIU7178890  Truck Full Container   GATE 1   \n",
       "1         36308  B9484UEM  SEKU4980843  Truck Full Container   GATE 2   \n",
       "2    3131466465  B9365UIZ  IRHU4868510  Truck Full Container   GATE 1   \n",
       "3    3130722593  B9473UIZ  SKHU8102194  Truck Full Container   GATE 2   \n",
       "4         34946  B9412UIZ  TGBU7144820  Truck Full Container   GATE 4   \n",
       "..          ...       ...          ...                   ...      ...   \n",
       "397       34530  B9029UIW  00000000000          Truck Losbak   GATE 4   \n",
       "398       31212   B9631JU  00000000000          Truck Losbak   GATE 3   \n",
       "399       34480  B9307UIY  00000000000          Truck Losbak   GATE 3   \n",
       "400       34972  B9361UIZ  00000000000          Truck Losbak   GATE 4   \n",
       "401  1311351276  B9989UIV  00000000000          Truck Losbak   GATE 3   \n",
       "\n",
       "      STATUS  GATE PROCESS                                              ALERT  \\\n",
       "0    SUCCESS  Input Manual  DOCUMENT BC NOT BC2.0, PLEASE RELEASE DOCUMENT BC   \n",
       "1    SUCCESS  Input Manual  DOCUMENT BC NOT BC2.0, PLEASE RELEASE DOCUMENT BC   \n",
       "2    SUCCESS  Input Manual             CONTAINER DOES NOT MATCH WITH DOCUMENT   \n",
       "3    SUCCESS  Input Manual  DOCUMENT BC NOT BC2.0, PLEASE RELEASE DOCUMENT BC   \n",
       "4    SUCCESS  Input Manual             CONTAINER DOES NOT MATCH WITH DOCUMENT   \n",
       "..       ...           ...                                                ...   \n",
       "397  SUCCESS  Input Manual                                TRUCK CANNOT LOSBAK   \n",
       "398  SUCCESS  Input Manual                                TRUCK CANNOT LOSBAK   \n",
       "399  SUCCESS  Input Manual                                TRUCK CANNOT LOSBAK   \n",
       "400  SUCCESS  Input Manual                                TRUCK CANNOT LOSBAK   \n",
       "401  SUCCESS  Input Manual                                TRUCK CANNOT LOSBAK   \n",
       "\n",
       "    REMARK OPERATOR       ORDER TYPE ACTUAL CONTAINER  \\\n",
       "0         Ocr gagal  Import Delivery      FCIU7178890   \n",
       "1         Ocr gagal  Import Delivery      SEKU4980843   \n",
       "2         Ocr gagal  Import Delivery      TRHU4868510   \n",
       "3         Ocr gagal  Import Delivery      SKHU8102194   \n",
       "4                 -   Import Shuttle      TGBU7144920   \n",
       "..              ...              ...              ...   \n",
       "397               -   Import Shuttle      SEGU2296009   \n",
       "398               -   Import Shuttle      CSLU1347316   \n",
       "399               -   Import Shuttle      CSNU1217351   \n",
       "400               -   Import Shuttle      OOLU0580879   \n",
       "401               -   Import Shuttle      TLLU3215879   \n",
       "\n",
       "                    DATETIME        Date             Time  Hour  Minute  \n",
       "0    2023-09-03 22:01:09.917  2023-09-03  22:01:09.917000    22       1  \n",
       "1    2023-09-03 21:58:44.470  2023-09-03  21:58:44.470000    21      58  \n",
       "2    2023-09-03 20:54:07.423  2023-09-03  20:54:07.423000    20      54  \n",
       "3    2023-09-03 20:50:08.797  2023-09-03  20:50:08.797000    20      50  \n",
       "4    2023-09-03 19:51:03.880  2023-09-03  19:51:03.880000    19      51  \n",
       "..                       ...         ...              ...   ...     ...  \n",
       "397  2023-08-28 01:26:33.467  2023-08-28  01:26:33.467000     1      26  \n",
       "398  2023-08-28 01:07:07.513  2023-08-28  01:07:07.513000     1       7  \n",
       "399  2023-08-28 00:39:00.883  2023-08-28  00:39:00.883000     0      39  \n",
       "400  2023-08-28 00:34:26.673  2023-08-28  00:34:26.673000     0      34  \n",
       "401  2023-08-28 00:33:47.430  2023-08-28  00:33:47.430000     0      33  \n",
       "\n",
       "[402 rows x 16 columns]"
      ]
     },
     "execution_count": 48,
     "metadata": {},
     "output_type": "execute_result"
    }
   ],
   "source": [
    "data_manual"
   ]
  },
  {
   "cell_type": "code",
   "execution_count": 49,
   "id": "9daa008d",
   "metadata": {},
   "outputs": [],
   "source": [
    "data2_hour = pd.DataFrame(data_manual['Hour'].value_counts()).reset_index()"
   ]
  },
  {
   "cell_type": "code",
   "execution_count": 50,
   "id": "ef036a24",
   "metadata": {},
   "outputs": [],
   "source": [
    "data2_hour = data2_hour.rename(columns={'index':'Time (Hour)','Hour':'Total'})"
   ]
  },
  {
   "cell_type": "code",
   "execution_count": 51,
   "id": "1843beca",
   "metadata": {},
   "outputs": [],
   "source": [
    "data2_hour = data2_hour.sort_values(by=['Time (Hour)']).reset_index(drop=True)"
   ]
  },
  {
   "cell_type": "code",
   "execution_count": 52,
   "id": "a54bffb7",
   "metadata": {},
   "outputs": [
    {
     "data": {
      "text/html": [
       "<div>\n",
       "<style scoped>\n",
       "    .dataframe tbody tr th:only-of-type {\n",
       "        vertical-align: middle;\n",
       "    }\n",
       "\n",
       "    .dataframe tbody tr th {\n",
       "        vertical-align: top;\n",
       "    }\n",
       "\n",
       "    .dataframe thead th {\n",
       "        text-align: right;\n",
       "    }\n",
       "</style>\n",
       "<table border=\"1\" class=\"dataframe\">\n",
       "  <thead>\n",
       "    <tr style=\"text-align: right;\">\n",
       "      <th></th>\n",
       "      <th>Time (Hour)</th>\n",
       "      <th>Total</th>\n",
       "    </tr>\n",
       "  </thead>\n",
       "  <tbody>\n",
       "    <tr>\n",
       "      <th>0</th>\n",
       "      <td>0</td>\n",
       "      <td>14</td>\n",
       "    </tr>\n",
       "    <tr>\n",
       "      <th>1</th>\n",
       "      <td>1</td>\n",
       "      <td>23</td>\n",
       "    </tr>\n",
       "    <tr>\n",
       "      <th>2</th>\n",
       "      <td>2</td>\n",
       "      <td>10</td>\n",
       "    </tr>\n",
       "    <tr>\n",
       "      <th>3</th>\n",
       "      <td>3</td>\n",
       "      <td>21</td>\n",
       "    </tr>\n",
       "    <tr>\n",
       "      <th>4</th>\n",
       "      <td>4</td>\n",
       "      <td>5</td>\n",
       "    </tr>\n",
       "    <tr>\n",
       "      <th>5</th>\n",
       "      <td>5</td>\n",
       "      <td>2</td>\n",
       "    </tr>\n",
       "    <tr>\n",
       "      <th>6</th>\n",
       "      <td>6</td>\n",
       "      <td>33</td>\n",
       "    </tr>\n",
       "    <tr>\n",
       "      <th>7</th>\n",
       "      <td>7</td>\n",
       "      <td>30</td>\n",
       "    </tr>\n",
       "    <tr>\n",
       "      <th>8</th>\n",
       "      <td>8</td>\n",
       "      <td>8</td>\n",
       "    </tr>\n",
       "    <tr>\n",
       "      <th>9</th>\n",
       "      <td>9</td>\n",
       "      <td>13</td>\n",
       "    </tr>\n",
       "    <tr>\n",
       "      <th>10</th>\n",
       "      <td>10</td>\n",
       "      <td>7</td>\n",
       "    </tr>\n",
       "    <tr>\n",
       "      <th>11</th>\n",
       "      <td>11</td>\n",
       "      <td>10</td>\n",
       "    </tr>\n",
       "    <tr>\n",
       "      <th>12</th>\n",
       "      <td>12</td>\n",
       "      <td>6</td>\n",
       "    </tr>\n",
       "    <tr>\n",
       "      <th>13</th>\n",
       "      <td>13</td>\n",
       "      <td>16</td>\n",
       "    </tr>\n",
       "    <tr>\n",
       "      <th>14</th>\n",
       "      <td>14</td>\n",
       "      <td>11</td>\n",
       "    </tr>\n",
       "    <tr>\n",
       "      <th>15</th>\n",
       "      <td>15</td>\n",
       "      <td>11</td>\n",
       "    </tr>\n",
       "    <tr>\n",
       "      <th>16</th>\n",
       "      <td>16</td>\n",
       "      <td>16</td>\n",
       "    </tr>\n",
       "    <tr>\n",
       "      <th>17</th>\n",
       "      <td>17</td>\n",
       "      <td>20</td>\n",
       "    </tr>\n",
       "    <tr>\n",
       "      <th>18</th>\n",
       "      <td>18</td>\n",
       "      <td>14</td>\n",
       "    </tr>\n",
       "    <tr>\n",
       "      <th>19</th>\n",
       "      <td>19</td>\n",
       "      <td>28</td>\n",
       "    </tr>\n",
       "    <tr>\n",
       "      <th>20</th>\n",
       "      <td>20</td>\n",
       "      <td>41</td>\n",
       "    </tr>\n",
       "    <tr>\n",
       "      <th>21</th>\n",
       "      <td>21</td>\n",
       "      <td>28</td>\n",
       "    </tr>\n",
       "    <tr>\n",
       "      <th>22</th>\n",
       "      <td>22</td>\n",
       "      <td>24</td>\n",
       "    </tr>\n",
       "    <tr>\n",
       "      <th>23</th>\n",
       "      <td>23</td>\n",
       "      <td>11</td>\n",
       "    </tr>\n",
       "  </tbody>\n",
       "</table>\n",
       "</div>"
      ],
      "text/plain": [
       "    Time (Hour)  Total\n",
       "0             0     14\n",
       "1             1     23\n",
       "2             2     10\n",
       "3             3     21\n",
       "4             4      5\n",
       "5             5      2\n",
       "6             6     33\n",
       "7             7     30\n",
       "8             8      8\n",
       "9             9     13\n",
       "10           10      7\n",
       "11           11     10\n",
       "12           12      6\n",
       "13           13     16\n",
       "14           14     11\n",
       "15           15     11\n",
       "16           16     16\n",
       "17           17     20\n",
       "18           18     14\n",
       "19           19     28\n",
       "20           20     41\n",
       "21           21     28\n",
       "22           22     24\n",
       "23           23     11"
      ]
     },
     "execution_count": 52,
     "metadata": {},
     "output_type": "execute_result"
    }
   ],
   "source": [
    "data2_hour"
   ]
  },
  {
   "cell_type": "code",
   "execution_count": 53,
   "id": "5a5d5b64",
   "metadata": {
    "scrolled": false
   },
   "outputs": [
    {
     "data": {
      "text/plain": [
       "Text(0.5, 0, 'Time (Hour)')"
      ]
     },
     "execution_count": 53,
     "metadata": {},
     "output_type": "execute_result"
    },
    {
     "data": {
      "image/png": "[encoded data removed]",
      "text/plain": [
       "<Figure size 1080x576 with 1 Axes>"
      ]
     },
     "metadata": {
      "needs_background": "light"
     },
     "output_type": "display_data"
    }
   ],
   "source": [
    "plt.figure(figsize=(15,8))\n",
    "ax2 = sns.barplot(x='Time (Hour)', y='Total', data=data2_hour)\n",
    "for i in ax2.containers:\n",
    "    ax2.bar_label(i,)\n",
    "\n",
    "plt.title('Total Manual By Time (Hour)')\n",
    "plt.ylabel('Total Error', fontsize=16)\n",
    "plt.xlabel('Time (Hour)', fontsize=16)"
   ]
  },
  {
   "cell_type": "code",
   "execution_count": 54,
   "id": "1a0fec35",
   "metadata": {},
   "outputs": [],
   "source": [
    "range_time = []\n",
    "\n",
    "for i, j in data2_hour.iterrows(): \n",
    "    if j['Time (Hour)'] <= 18 and j['Time (Hour)'] >= 6:\n",
    "        time = 'Siang'\n",
    "    else:\n",
    "        time = 'Malam'\n",
    "    range_time.append(time)"
   ]
  },
  {
   "cell_type": "code",
   "execution_count": 55,
   "id": "9dd1de78",
   "metadata": {},
   "outputs": [],
   "source": [
    "data2_hour['RangeTime'] = range_time\n"
   ]
  },
  {
   "cell_type": "code",
   "execution_count": 56,
   "id": "670eeedf",
   "metadata": {},
   "outputs": [],
   "source": [
    "data2_range_hour = pd.DataFrame(data2_hour.groupby('RangeTime', as_index=False)['Total'].sum())"
   ]
  },
  {
   "cell_type": "code",
   "execution_count": 57,
   "id": "bfb6a318",
   "metadata": {
    "scrolled": false
   },
   "outputs": [
    {
     "data": {
      "text/html": [
       "<div>\n",
       "<style scoped>\n",
       "    .dataframe tbody tr th:only-of-type {\n",
       "        vertical-align: middle;\n",
       "    }\n",
       "\n",
       "    .dataframe tbody tr th {\n",
       "        vertical-align: top;\n",
       "    }\n",
       "\n",
       "    .dataframe thead th {\n",
       "        text-align: right;\n",
       "    }\n",
       "</style>\n",
       "<table border=\"1\" class=\"dataframe\">\n",
       "  <thead>\n",
       "    <tr style=\"text-align: right;\">\n",
       "      <th></th>\n",
       "      <th>RangeTime</th>\n",
       "      <th>Total</th>\n",
       "    </tr>\n",
       "  </thead>\n",
       "  <tbody>\n",
       "    <tr>\n",
       "      <th>0</th>\n",
       "      <td>Siang</td>\n",
       "      <td>195</td>\n",
       "    </tr>\n",
       "    <tr>\n",
       "      <th>1</th>\n",
       "      <td>Malam</td>\n",
       "      <td>207</td>\n",
       "    </tr>\n",
       "  </tbody>\n",
       "</table>\n",
       "</div>"
      ],
      "text/plain": [
       "  RangeTime  Total\n",
       "0     Siang    195\n",
       "1     Malam    207"
      ]
     },
     "execution_count": 57,
     "metadata": {},
     "output_type": "execute_result"
    }
   ],
   "source": [
    "data2_range_hour.sort_values(by=['Total']).reset_index(drop=True)"
   ]
  },
  {
   "cell_type": "code",
   "execution_count": 58,
   "id": "1671b1b9",
   "metadata": {},
   "outputs": [
    {
     "data": {
      "text/plain": [
       "Text(0.5, 0, 'Range Time')"
      ]
     },
     "execution_count": 58,
     "metadata": {},
     "output_type": "execute_result"
    },
    {
     "data": {
      "image/png": "[encoded data removed]",
      "text/plain": [
       "<Figure size 504x504 with 1 Axes>"
      ]
     },
     "metadata": {
      "needs_background": "light"
     },
     "output_type": "display_data"
    }
   ],
   "source": [
    "plt.figure(figsize=(7,7))\n",
    "flatui = [\"#CCCCCC\",\"cyan\"]\n",
    "sns.set_palette(flatui)\n",
    "\n",
    "\n",
    "ax3 = sns.barplot(x='RangeTime', y='Total', data=data2_range_hour)\n",
    "for i in ax3.containers:\n",
    "    ax3.bar_label(i,)\n",
    "\n",
    "plt.title('Total Error By Range Time')\n",
    "plt.ylabel('Total Error', fontsize=16)\n",
    "plt.xlabel('Range Time', fontsize=16)"
   ]
  },
  {
   "cell_type": "code",
   "execution_count": 59,
   "id": "bc573488",
   "metadata": {},
   "outputs": [
    {
     "data": {
      "text/plain": [
       "Text(0, 0.5, 'Total (%)')"
      ]
     },
     "execution_count": 59,
     "metadata": {},
     "output_type": "execute_result"
    },
    {
     "data": {
      "image/png": "[encoded data removed]",
      "text/plain": [
       "<Figure size 504x360 with 1 Axes>"
      ]
     },
     "metadata": {},
     "output_type": "display_data"
    }
   ],
   "source": [
    "colors =['navy','cyan']\n",
    "plt.figure(figsize=(7,5))\n",
    "data2_hour.groupby('RangeTime')['Total'].sum().plot.pie(title='Percentage of Error by Time', \n",
    "                                                        fontsize = 20, explode=[0,.1], autopct=\"%.1f%%\", colors=['#CCCCCC','cyan'],\n",
    "                                                        shadow = True, textprops={'fontsize': 18})\n",
    "plt.ylabel('Total (%)', fontsize=16)"
   ]
  },
  {
   "cell_type": "markdown",
   "id": "b2ead865",
   "metadata": {},
   "source": [
    "# Revisi"
   ]
  },
  {
   "cell_type": "code",
   "execution_count": 60,
   "id": "250098c6",
   "metadata": {},
   "outputs": [],
   "source": [
    "data_auto = df_success.loc[df_success['GATE PROCESS']=='Auto'].reset_index(drop=True)"
   ]
  },
  {
   "cell_type": "code",
   "execution_count": 61,
   "id": "d9a2cf84",
   "metadata": {
    "scrolled": true
   },
   "outputs": [],
   "source": [
    "data_auto_hour = pd.DataFrame(data_auto['Hour'].value_counts()).reset_index().rename(columns={'index':'Time (Hour)','Hour':'Auto'})"
   ]
  },
  {
   "cell_type": "code",
   "execution_count": 62,
   "id": "2537479a",
   "metadata": {},
   "outputs": [],
   "source": [
    "data_auto_hour = data_auto_hour.sort_values(by=['Time (Hour)']).reset_index(drop=True)"
   ]
  },
  {
   "cell_type": "code",
   "execution_count": 63,
   "id": "4657a8dc",
   "metadata": {},
   "outputs": [
    {
     "data": {
      "text/html": [
       "<div>\n",
       "<style scoped>\n",
       "    .dataframe tbody tr th:only-of-type {\n",
       "        vertical-align: middle;\n",
       "    }\n",
       "\n",
       "    .dataframe tbody tr th {\n",
       "        vertical-align: top;\n",
       "    }\n",
       "\n",
       "    .dataframe thead th {\n",
       "        text-align: right;\n",
       "    }\n",
       "</style>\n",
       "<table border=\"1\" class=\"dataframe\">\n",
       "  <thead>\n",
       "    <tr style=\"text-align: right;\">\n",
       "      <th></th>\n",
       "      <th>Time (Hour)</th>\n",
       "      <th>Auto</th>\n",
       "    </tr>\n",
       "  </thead>\n",
       "  <tbody>\n",
       "    <tr>\n",
       "      <th>0</th>\n",
       "      <td>0</td>\n",
       "      <td>68</td>\n",
       "    </tr>\n",
       "    <tr>\n",
       "      <th>1</th>\n",
       "      <td>1</td>\n",
       "      <td>133</td>\n",
       "    </tr>\n",
       "    <tr>\n",
       "      <th>2</th>\n",
       "      <td>2</td>\n",
       "      <td>57</td>\n",
       "    </tr>\n",
       "    <tr>\n",
       "      <th>3</th>\n",
       "      <td>3</td>\n",
       "      <td>59</td>\n",
       "    </tr>\n",
       "    <tr>\n",
       "      <th>4</th>\n",
       "      <td>4</td>\n",
       "      <td>22</td>\n",
       "    </tr>\n",
       "    <tr>\n",
       "      <th>5</th>\n",
       "      <td>5</td>\n",
       "      <td>11</td>\n",
       "    </tr>\n",
       "    <tr>\n",
       "      <th>6</th>\n",
       "      <td>6</td>\n",
       "      <td>185</td>\n",
       "    </tr>\n",
       "    <tr>\n",
       "      <th>7</th>\n",
       "      <td>7</td>\n",
       "      <td>187</td>\n",
       "    </tr>\n",
       "    <tr>\n",
       "      <th>8</th>\n",
       "      <td>8</td>\n",
       "      <td>68</td>\n",
       "    </tr>\n",
       "    <tr>\n",
       "      <th>9</th>\n",
       "      <td>9</td>\n",
       "      <td>138</td>\n",
       "    </tr>\n",
       "    <tr>\n",
       "      <th>10</th>\n",
       "      <td>10</td>\n",
       "      <td>97</td>\n",
       "    </tr>\n",
       "    <tr>\n",
       "      <th>11</th>\n",
       "      <td>11</td>\n",
       "      <td>96</td>\n",
       "    </tr>\n",
       "    <tr>\n",
       "      <th>12</th>\n",
       "      <td>12</td>\n",
       "      <td>66</td>\n",
       "    </tr>\n",
       "    <tr>\n",
       "      <th>13</th>\n",
       "      <td>13</td>\n",
       "      <td>122</td>\n",
       "    </tr>\n",
       "    <tr>\n",
       "      <th>14</th>\n",
       "      <td>14</td>\n",
       "      <td>95</td>\n",
       "    </tr>\n",
       "    <tr>\n",
       "      <th>15</th>\n",
       "      <td>15</td>\n",
       "      <td>109</td>\n",
       "    </tr>\n",
       "    <tr>\n",
       "      <th>16</th>\n",
       "      <td>16</td>\n",
       "      <td>109</td>\n",
       "    </tr>\n",
       "    <tr>\n",
       "      <th>17</th>\n",
       "      <td>17</td>\n",
       "      <td>172</td>\n",
       "    </tr>\n",
       "    <tr>\n",
       "      <th>18</th>\n",
       "      <td>18</td>\n",
       "      <td>70</td>\n",
       "    </tr>\n",
       "    <tr>\n",
       "      <th>19</th>\n",
       "      <td>19</td>\n",
       "      <td>232</td>\n",
       "    </tr>\n",
       "    <tr>\n",
       "      <th>20</th>\n",
       "      <td>20</td>\n",
       "      <td>233</td>\n",
       "    </tr>\n",
       "    <tr>\n",
       "      <th>21</th>\n",
       "      <td>21</td>\n",
       "      <td>244</td>\n",
       "    </tr>\n",
       "    <tr>\n",
       "      <th>22</th>\n",
       "      <td>22</td>\n",
       "      <td>133</td>\n",
       "    </tr>\n",
       "    <tr>\n",
       "      <th>23</th>\n",
       "      <td>23</td>\n",
       "      <td>91</td>\n",
       "    </tr>\n",
       "  </tbody>\n",
       "</table>\n",
       "</div>"
      ],
      "text/plain": [
       "    Time (Hour)  Auto\n",
       "0             0    68\n",
       "1             1   133\n",
       "2             2    57\n",
       "3             3    59\n",
       "4             4    22\n",
       "5             5    11\n",
       "6             6   185\n",
       "7             7   187\n",
       "8             8    68\n",
       "9             9   138\n",
       "10           10    97\n",
       "11           11    96\n",
       "12           12    66\n",
       "13           13   122\n",
       "14           14    95\n",
       "15           15   109\n",
       "16           16   109\n",
       "17           17   172\n",
       "18           18    70\n",
       "19           19   232\n",
       "20           20   233\n",
       "21           21   244\n",
       "22           22   133\n",
       "23           23    91"
      ]
     },
     "execution_count": 63,
     "metadata": {},
     "output_type": "execute_result"
    }
   ],
   "source": [
    "data_auto_hour"
   ]
  },
  {
   "cell_type": "code",
   "execution_count": 64,
   "id": "3b13707b",
   "metadata": {},
   "outputs": [],
   "source": [
    "range_time = []\n",
    "\n",
    "for i, j in data_auto_hour.iterrows(): \n",
    "    if j['Time (Hour)'] <= 18 and j['Time (Hour)'] >= 6:\n",
    "        time = 'Siang'\n",
    "    else:\n",
    "        time = 'Malam'\n",
    "    range_time.append(time)"
   ]
  },
  {
   "cell_type": "code",
   "execution_count": 65,
   "id": "fc76150d",
   "metadata": {},
   "outputs": [],
   "source": [
    "data_auto_hour['RangeTime'] = range_time"
   ]
  },
  {
   "cell_type": "code",
   "execution_count": 66,
   "id": "33cb337b",
   "metadata": {},
   "outputs": [],
   "source": [
    "data_sum_auto = pd.DataFrame(data_auto_hour.groupby('RangeTime', as_index=False)['Auto'].sum())"
   ]
  },
  {
   "cell_type": "code",
   "execution_count": 67,
   "id": "43acb0db",
   "metadata": {},
   "outputs": [
    {
     "data": {
      "text/html": [
       "<div>\n",
       "<style scoped>\n",
       "    .dataframe tbody tr th:only-of-type {\n",
       "        vertical-align: middle;\n",
       "    }\n",
       "\n",
       "    .dataframe tbody tr th {\n",
       "        vertical-align: top;\n",
       "    }\n",
       "\n",
       "    .dataframe thead th {\n",
       "        text-align: right;\n",
       "    }\n",
       "</style>\n",
       "<table border=\"1\" class=\"dataframe\">\n",
       "  <thead>\n",
       "    <tr style=\"text-align: right;\">\n",
       "      <th></th>\n",
       "      <th>RangeTime</th>\n",
       "      <th>Auto</th>\n",
       "    </tr>\n",
       "  </thead>\n",
       "  <tbody>\n",
       "    <tr>\n",
       "      <th>0</th>\n",
       "      <td>Malam</td>\n",
       "      <td>1283</td>\n",
       "    </tr>\n",
       "    <tr>\n",
       "      <th>1</th>\n",
       "      <td>Siang</td>\n",
       "      <td>1514</td>\n",
       "    </tr>\n",
       "  </tbody>\n",
       "</table>\n",
       "</div>"
      ],
      "text/plain": [
       "  RangeTime  Auto\n",
       "0     Malam  1283\n",
       "1     Siang  1514"
      ]
     },
     "execution_count": 67,
     "metadata": {},
     "output_type": "execute_result"
    }
   ],
   "source": [
    "data_sum_auto"
   ]
  },
  {
   "cell_type": "code",
   "execution_count": 68,
   "id": "cec03a94",
   "metadata": {},
   "outputs": [],
   "source": [
    "data_sum_manual = data2_range_hour"
   ]
  },
  {
   "cell_type": "code",
   "execution_count": 69,
   "id": "7ce6d426",
   "metadata": {},
   "outputs": [],
   "source": [
    "data_sum_manual = data_sum_manual.rename(columns={'Total':'Manual'})"
   ]
  },
  {
   "cell_type": "code",
   "execution_count": 70,
   "id": "268a3c13",
   "metadata": {},
   "outputs": [
    {
     "data": {
      "text/html": [
       "<div>\n",
       "<style scoped>\n",
       "    .dataframe tbody tr th:only-of-type {\n",
       "        vertical-align: middle;\n",
       "    }\n",
       "\n",
       "    .dataframe tbody tr th {\n",
       "        vertical-align: top;\n",
       "    }\n",
       "\n",
       "    .dataframe thead th {\n",
       "        text-align: right;\n",
       "    }\n",
       "</style>\n",
       "<table border=\"1\" class=\"dataframe\">\n",
       "  <thead>\n",
       "    <tr style=\"text-align: right;\">\n",
       "      <th></th>\n",
       "      <th>RangeTime</th>\n",
       "      <th>Manual</th>\n",
       "    </tr>\n",
       "  </thead>\n",
       "  <tbody>\n",
       "    <tr>\n",
       "      <th>0</th>\n",
       "      <td>Malam</td>\n",
       "      <td>207</td>\n",
       "    </tr>\n",
       "    <tr>\n",
       "      <th>1</th>\n",
       "      <td>Siang</td>\n",
       "      <td>195</td>\n",
       "    </tr>\n",
       "  </tbody>\n",
       "</table>\n",
       "</div>"
      ],
      "text/plain": [
       "  RangeTime  Manual\n",
       "0     Malam     207\n",
       "1     Siang     195"
      ]
     },
     "execution_count": 70,
     "metadata": {},
     "output_type": "execute_result"
    }
   ],
   "source": [
    "data_sum_manual"
   ]
  },
  {
   "cell_type": "code",
   "execution_count": 71,
   "id": "ffa2c55b",
   "metadata": {},
   "outputs": [],
   "source": [
    "data_manual_auto = pd.merge(data_sum_auto,data_sum_manual, on = 'RangeTime')"
   ]
  },
  {
   "cell_type": "code",
   "execution_count": 72,
   "id": "e2bd9f51",
   "metadata": {},
   "outputs": [],
   "source": [
    "data_manual_auto = data_manual_auto.set_index('RangeTime').T.reset_index()"
   ]
  },
  {
   "cell_type": "code",
   "execution_count": 73,
   "id": "c441f6f8",
   "metadata": {},
   "outputs": [],
   "source": [
    "data_manual_auto = data_manual_auto.rename_axis(None, axis=1).rename(columns={'index':'RangeTime'})"
   ]
  },
  {
   "cell_type": "code",
   "execution_count": 74,
   "id": "6add43ba",
   "metadata": {},
   "outputs": [
    {
     "data": {
      "text/html": [
       "<div>\n",
       "<style scoped>\n",
       "    .dataframe tbody tr th:only-of-type {\n",
       "        vertical-align: middle;\n",
       "    }\n",
       "\n",
       "    .dataframe tbody tr th {\n",
       "        vertical-align: top;\n",
       "    }\n",
       "\n",
       "    .dataframe thead th {\n",
       "        text-align: right;\n",
       "    }\n",
       "</style>\n",
       "<table border=\"1\" class=\"dataframe\">\n",
       "  <thead>\n",
       "    <tr style=\"text-align: right;\">\n",
       "      <th></th>\n",
       "      <th>RangeTime</th>\n",
       "      <th>Malam</th>\n",
       "      <th>Siang</th>\n",
       "    </tr>\n",
       "  </thead>\n",
       "  <tbody>\n",
       "    <tr>\n",
       "      <th>0</th>\n",
       "      <td>Auto</td>\n",
       "      <td>1283</td>\n",
       "      <td>1514</td>\n",
       "    </tr>\n",
       "    <tr>\n",
       "      <th>1</th>\n",
       "      <td>Manual</td>\n",
       "      <td>207</td>\n",
       "      <td>195</td>\n",
       "    </tr>\n",
       "  </tbody>\n",
       "</table>\n",
       "</div>"
      ],
      "text/plain": [
       "  RangeTime  Malam  Siang\n",
       "0      Auto   1283   1514\n",
       "1    Manual    207    195"
      ]
     },
     "execution_count": 74,
     "metadata": {},
     "output_type": "execute_result"
    }
   ],
   "source": [
    "data_manual_auto"
   ]
  },
  {
   "cell_type": "code",
   "execution_count": 75,
   "id": "aff86789",
   "metadata": {},
   "outputs": [
    {
     "data": {
      "text/plain": [
       "Text(0, 0.5, 'Total Malam (%)')"
      ]
     },
     "execution_count": 75,
     "metadata": {},
     "output_type": "execute_result"
    },
    {
     "data": {
      "image/png": "[encoded data removed]",
      "text/plain": [
       "<Figure size 504x360 with 1 Axes>"
      ]
     },
     "metadata": {},
     "output_type": "display_data"
    }
   ],
   "source": [
    "\n",
    "plt.figure(figsize=(7,5))\n",
    "data_manual_auto.groupby('RangeTime')['Malam'].sum().plot.pie(title='Percentage of Auto x Manual in Malam', \n",
    "                                                        fontsize = 20, explode=[0,.1], autopct=\"%.1f%%\", colors=['#979899','#e1e3e1'],\n",
    "                                                        shadow = True, textprops={'fontsize': 18})\n",
    "plt.ylabel('Total Malam (%)', fontsize=16)"
   ]
  },
  {
   "cell_type": "code",
   "execution_count": 76,
   "id": "89b5acf2",
   "metadata": {},
   "outputs": [
    {
     "data": {
      "text/plain": [
       "Text(0, 0.5, 'Total Siang (%)')"
      ]
     },
     "execution_count": 76,
     "metadata": {},
     "output_type": "execute_result"
    },
    {
     "data": {
      "image/png": "[encoded data removed]",
      "text/plain": [
       "<Figure size 504x360 with 1 Axes>"
      ]
     },
     "metadata": {},
     "output_type": "display_data"
    }
   ],
   "source": [
    "\n",
    "plt.figure(figsize=(7,5))\n",
    "data_manual_auto.groupby('RangeTime')['Siang'].sum().plot.pie(title='Percentage of Auto x Manual in Siang', \n",
    "                                                        fontsize = 20, explode=[0,.1], autopct=\"%.1f%%\", colors=['cyan','#02d6c5'],\n",
    "                                                        shadow = True, textprops={'fontsize': 18})\n",
    "\n",
    "plt.ylabel('Total Siang (%)', fontsize=16)"
   ]
  },
  {
   "cell_type": "code",
   "execution_count": null,
   "id": "7dde0491",
   "metadata": {},
   "outputs": [],
   "source": []
  },
  {
   "cell_type": "code",
   "execution_count": null,
   "id": "58cd9dbe",
   "metadata": {},
   "outputs": [],
   "source": []
  },
  {
   "cell_type": "code",
   "execution_count": null,
   "id": "f74555a6",
   "metadata": {},
   "outputs": [],
   "source": []
  },
  {
   "cell_type": "code",
   "execution_count": null,
   "id": "a9f7cb7c",
   "metadata": {},
   "outputs": [],
   "source": []
  }
 ],
 "metadata": {
  "kernelspec": {
   "display_name": "Python 3 (ipykernel)",
   "language": "python",
   "name": "python3"
  },
  "language_info": {
   "codemirror_mode": {
    "name": "ipython",
    "version": 3
   },
   "file_extension": ".py",
   "mimetype": "text/x-python",
   "name": "python",
   "nbconvert_exporter": "python",
   "pygments_lexer": "ipython3",
   "version": "3.9.12"
  }
 },
 "nbformat": 4,
 "nbformat_minor": 5
}
